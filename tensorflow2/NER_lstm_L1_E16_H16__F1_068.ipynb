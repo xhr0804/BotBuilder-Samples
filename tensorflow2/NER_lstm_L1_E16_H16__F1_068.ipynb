{
  "nbformat": 4,
  "nbformat_minor": 0,
  "metadata": {
    "colab": {
      "name": "NER-lstm-BiLSTM-FromLogitTrue.ipynb",
      "provenance": [],
      "collapsed_sections": [],
      "machine_shape": "hm",
      "include_colab_link": true
    },
    "kernelspec": {
      "name": "python3",
      "display_name": "Python 3"
    }
  },
  "cells": [
    {
      "cell_type": "markdown",
      "metadata": {
        "id": "view-in-github",
        "colab_type": "text"
      },
      "source": [
        "<a href=\"https://colab.research.google.com/github/xhr0804/BotBuilder-Samples/blob/master/tensorflow2/NER_lstm_L1_E16_H16__F1_068.ipynb\" target=\"_parent\"><img src=\"https://colab.research.google.com/assets/colab-badge.svg\" alt=\"Open In Colab\"/></a>"
      ]
    },
    {
      "cell_type": "code",
      "metadata": {
        "colab": {
          "base_uri": "https://localhost:8080/"
        },
        "id": "xkTK-5lr_OPg",
        "outputId": "80e5445e-5dad-4d71-bef6-aadedae6641f"
      },
      "source": [
        "!wget https://raw.githubusercontent.com/synalp/NER/master/corpus/CoNLL-2003/eng.train\n",
        "!wget https://raw.githubusercontent.com/synalp/NER/master/corpus/CoNLL-2003/eng.testa"
      ],
      "execution_count": 1,
      "outputs": [
        {
          "output_type": "stream",
          "text": [
            "--2020-12-05 12:47:05--  https://raw.githubusercontent.com/synalp/NER/master/corpus/CoNLL-2003/eng.train\n",
            "Resolving raw.githubusercontent.com (raw.githubusercontent.com)... 151.101.0.133, 151.101.64.133, 151.101.128.133, ...\n",
            "Connecting to raw.githubusercontent.com (raw.githubusercontent.com)|151.101.0.133|:443... connected.\n",
            "HTTP request sent, awaiting response... 200 OK\n",
            "Length: 3281528 (3.1M) [text/plain]\n",
            "Saving to: ‘eng.train.10’\n",
            "\n",
            "eng.train.10        100%[===================>]   3.13M  --.-KB/s    in 0.1s    \n",
            "\n",
            "2020-12-05 12:47:05 (21.5 MB/s) - ‘eng.train.10’ saved [3281528/3281528]\n",
            "\n",
            "--2020-12-05 12:47:05--  https://raw.githubusercontent.com/synalp/NER/master/corpus/CoNLL-2003/eng.testa\n",
            "Resolving raw.githubusercontent.com (raw.githubusercontent.com)... 151.101.0.133, 151.101.64.133, 151.101.128.133, ...\n",
            "Connecting to raw.githubusercontent.com (raw.githubusercontent.com)|151.101.0.133|:443... connected.\n",
            "HTTP request sent, awaiting response... 200 OK\n",
            "Length: 827012 (808K) [text/plain]\n",
            "Saving to: ‘eng.testa.10’\n",
            "\n",
            "eng.testa.10        100%[===================>] 807.63K  --.-KB/s    in 0.04s   \n",
            "\n",
            "2020-12-05 12:47:05 (18.3 MB/s) - ‘eng.testa.10’ saved [827012/827012]\n",
            "\n"
          ],
          "name": "stdout"
        }
      ]
    },
    {
      "cell_type": "code",
      "metadata": {
        "colab": {
          "base_uri": "https://localhost:8080/"
        },
        "id": "sxMsyZaFhvwt",
        "outputId": "31aab61d-b0ea-417b-c24d-6262352c1b3c"
      },
      "source": [
        "import tensorflow as tf\n",
        "from tensorflow import keras\n",
        "\n",
        "import numpy as np\n",
        "import time\n",
        "import matplotlib.pyplot as plt\n",
        "\n",
        "print(tf.__version__)\n",
        "# print(\"Num GPUs Available: \", len(tf.config.experimental.list_physical_devices('GPU')))"
      ],
      "execution_count": 2,
      "outputs": [
        {
          "output_type": "stream",
          "text": [
            "2.3.0\n"
          ],
          "name": "stdout"
        }
      ]
    },
    {
      "cell_type": "code",
      "metadata": {
        "id": "k3fD4VEC5_z9"
      },
      "source": [
        "def countWord(file):\n",
        "  word_count = {}\n",
        "  tag_count = {}\n",
        "  for line in open(file):\n",
        "    if '-DOCSTART-' in line or not len(line.strip('\\n')):\n",
        "      continue\n",
        "    splitted = line.split()\n",
        "    if splitted[0] in word_count:\n",
        "      word_count[splitted[0]] += 1\n",
        "    else:\n",
        "      word_count[splitted[0]] = 1\n",
        "    if splitted[-1] in tag_count:\n",
        "      tag_count[splitted[-1]] += 1\n",
        "    else:\n",
        "      tag_count[splitted[-1]] = 1\n",
        "  return word_count, tag_count"
      ],
      "execution_count": 3,
      "outputs": []
    },
    {
      "cell_type": "code",
      "metadata": {
        "id": "OfSP-jhLIafy"
      },
      "source": [
        "word_count, tag_count = countWord('eng.train')\n",
        "sorted_word_count = sorted(word_count.items(), key=lambda x: x[1], reverse=True)\n",
        "word2idx = {kv[0]: index+2 for index, kv in enumerate(sorted_word_count)}\n",
        "word2idx[\"<PAD>\"] = 0\n",
        "word2idx[\"<UNK>\"] = 1\n",
        "idx2word = {idx:word for word, idx in word2idx.items()}\n",
        "sorted_tag_count = sorted(tag_count.items(), key=lambda x: x[1], reverse=True)\n",
        "tag2idx = {kv[0]: index for index, kv in enumerate(sorted_tag_count)}\n",
        "idx2tag = {idx:tag for tag, idx in tag2idx.items()}"
      ],
      "execution_count": 4,
      "outputs": []
    },
    {
      "cell_type": "code",
      "metadata": {
        "id": "pmIJJ0as_Q2N"
      },
      "source": [
        "def parse(file):\n",
        "  left, right = [], []\n",
        "  for line in open(file):\n",
        "    line = line.strip()\n",
        "    if '-DOCSTART-' in line:\n",
        "      this_left, this_right = [], []\n",
        "    elif not len(line):\n",
        "      if len(this_left) > 0:\n",
        "        left.append(this_left)\n",
        "        right.append(this_right)\n",
        "      this_left, this_right = [], []\n",
        "    else:\n",
        "      splitted = line.split()\n",
        "      this_left.append(splitted[0])\n",
        "      this_right.append(splitted[-1])\n",
        "  return left, right"
      ],
      "execution_count": 5,
      "outputs": []
    },
    {
      "cell_type": "code",
      "metadata": {
        "id": "Cjz3WN_Z_XPC"
      },
      "source": [
        "left_train, right_train = parse('eng.train')\n",
        "left_test, right_test = parse('eng.testa')"
      ],
      "execution_count": 6,
      "outputs": []
    },
    {
      "cell_type": "code",
      "metadata": {
        "id": "Dn85jQMozhgs"
      },
      "source": [
        "def convertWord2Idx(words, map, threshold):\n",
        "  ret = []\n",
        "  for word in words:\n",
        "    if word in map and map[word] < threshold:\n",
        "      ret.append(map[word])\n",
        "    else:\n",
        "      ret.append(map[\"<UNK>\"])\n",
        "  return np.array(ret, dtype=np.int32)"
      ],
      "execution_count": 7,
      "outputs": []
    },
    {
      "cell_type": "code",
      "metadata": {
        "id": "w0nfVT8OhF-N"
      },
      "source": [
        "x_train = np.array([convertWord2Idx(words, word2idx, 10000) for words in left_train])\n",
        "y_train = np.array([convertWord2Idx(words, tag2idx, 10000) for words in right_train])\n",
        "x_test = np.array([convertWord2Idx(words, word2idx, 10000) for words in left_test])\n",
        "y_test = np.array([convertWord2Idx(words, tag2idx, 10000) for words in right_test])"
      ],
      "execution_count": 8,
      "outputs": []
    },
    {
      "cell_type": "code",
      "metadata": {
        "id": "wZhlumvCp25y"
      },
      "source": [
        "x_train = keras.preprocessing.sequence.pad_sequences(x_train,\n",
        "                                                     padding='post',\n",
        "                                                     value = word2idx[\"<PAD>\"],\n",
        "                                                     maxlen = 64)"
      ],
      "execution_count": 9,
      "outputs": []
    },
    {
      "cell_type": "code",
      "metadata": {
        "id": "3qOaqPPE5cfN"
      },
      "source": [
        "y_train = keras.preprocessing.sequence.pad_sequences(y_train,\n",
        "                                                     padding='post',\n",
        "                                                     value = 0,\n",
        "                                                     maxlen = 64)"
      ],
      "execution_count": 10,
      "outputs": []
    },
    {
      "cell_type": "code",
      "metadata": {
        "id": "-2OSSnu_y0Go"
      },
      "source": [
        "model = keras.Sequential([\n",
        "  keras.layers.Embedding(10000, 16, mask_zero=True),\n",
        "  keras.layers.LSTM(16, return_sequences=True),\n",
        "  keras.layers.Dense(8)\n",
        "])"
      ],
      "execution_count": 24,
      "outputs": []
    },
    {
      "cell_type": "code",
      "metadata": {
        "colab": {
          "base_uri": "https://localhost:8080/"
        },
        "id": "LXVridkFx3zd",
        "outputId": "e0c212e7-5c69-4bd4-f760-da48f26eeb5e"
      },
      "source": [
        "model.summary()"
      ],
      "execution_count": 25,
      "outputs": [
        {
          "output_type": "stream",
          "text": [
            "Model: \"sequential_1\"\n",
            "_________________________________________________________________\n",
            "Layer (type)                 Output Shape              Param #   \n",
            "=================================================================\n",
            "embedding_1 (Embedding)      (None, None, 16)          160000    \n",
            "_________________________________________________________________\n",
            "lstm_1 (LSTM)                (None, None, 16)          2112      \n",
            "_________________________________________________________________\n",
            "dense_1 (Dense)              (None, None, 8)           136       \n",
            "=================================================================\n",
            "Total params: 162,248\n",
            "Trainable params: 162,248\n",
            "Non-trainable params: 0\n",
            "_________________________________________________________________\n"
          ],
          "name": "stdout"
        }
      ]
    },
    {
      "cell_type": "code",
      "metadata": {
        "id": "wsEXnwiSjMNt"
      },
      "source": [
        "earlystopping = tf.keras.callbacks.EarlyStopping(monitor='val_loss', patience=5)"
      ],
      "execution_count": 13,
      "outputs": []
    },
    {
      "cell_type": "code",
      "metadata": {
        "id": "Tn8QAH-ajgY6"
      },
      "source": [
        "model.compile(optimizer='adam', \n",
        "              loss = tf.keras.losses.SparseCategoricalCrossentropy(from_logits=True), #if the model output doesn't have softmax, should set from_logits=True\n",
        "              metrics=['accuracy'])"
      ],
      "execution_count": 26,
      "outputs": []
    },
    {
      "cell_type": "code",
      "metadata": {
        "colab": {
          "base_uri": "https://localhost:8080/"
        },
        "id": "lKdHDkb1x_4u",
        "outputId": "4a6c0f8f-dce8-47c0-8d9a-e349ecbc2b05"
      },
      "source": [
        "model.fit(\n",
        "    x = x_train[:12000], # batchsize * sentence_len(word index)\n",
        "    y = y_train[:12000], # batchsize * sentence_len(tag index)\n",
        "    batch_size = 32,\n",
        "    epochs = 40,\n",
        "    validation_data = (x_train[12000:], y_train[12000:]),\n",
        "    callbacks = [earlystopping]\n",
        ")"
      ],
      "execution_count": 27,
      "outputs": [
        {
          "output_type": "stream",
          "text": [
            "Epoch 1/40\n",
            "375/375 [==============================] - 12s 33ms/step - loss: 0.1951 - accuracy: 0.8233 - val_loss: 0.1346 - val_accuracy: 0.8549\n",
            "Epoch 2/40\n",
            "375/375 [==============================] - 11s 30ms/step - loss: 0.0984 - accuracy: 0.8449 - val_loss: 0.0854 - val_accuracy: 0.8779\n",
            "Epoch 3/40\n",
            "375/375 [==============================] - 11s 29ms/step - loss: 0.0715 - accuracy: 0.8851 - val_loss: 0.0747 - val_accuracy: 0.9000\n",
            "Epoch 4/40\n",
            "375/375 [==============================] - 11s 29ms/step - loss: 0.0632 - accuracy: 0.9034 - val_loss: 0.0684 - val_accuracy: 0.9136\n",
            "Epoch 5/40\n",
            "375/375 [==============================] - 11s 30ms/step - loss: 0.0530 - accuracy: 0.9286 - val_loss: 0.0576 - val_accuracy: 0.9374\n",
            "Epoch 6/40\n",
            "375/375 [==============================] - 11s 31ms/step - loss: 0.0393 - accuracy: 0.9531 - val_loss: 0.0476 - val_accuracy: 0.9463\n",
            "Epoch 7/40\n",
            "375/375 [==============================] - 11s 29ms/step - loss: 0.0306 - accuracy: 0.9601 - val_loss: 0.0429 - val_accuracy: 0.9498\n",
            "Epoch 8/40\n",
            "375/375 [==============================] - 11s 29ms/step - loss: 0.0259 - accuracy: 0.9650 - val_loss: 0.0403 - val_accuracy: 0.9534\n",
            "Epoch 9/40\n",
            "375/375 [==============================] - 11s 29ms/step - loss: 0.0229 - accuracy: 0.9691 - val_loss: 0.0392 - val_accuracy: 0.9536\n",
            "Epoch 10/40\n",
            "375/375 [==============================] - 11s 29ms/step - loss: 0.0203 - accuracy: 0.9724 - val_loss: 0.0389 - val_accuracy: 0.9540\n",
            "Epoch 11/40\n",
            "375/375 [==============================] - 11s 29ms/step - loss: 0.0182 - accuracy: 0.9754 - val_loss: 0.0399 - val_accuracy: 0.9512\n",
            "Epoch 12/40\n",
            "375/375 [==============================] - 11s 29ms/step - loss: 0.0163 - accuracy: 0.9775 - val_loss: 0.0397 - val_accuracy: 0.9534\n",
            "Epoch 13/40\n",
            "375/375 [==============================] - 11s 29ms/step - loss: 0.0149 - accuracy: 0.9792 - val_loss: 0.0413 - val_accuracy: 0.9507\n",
            "Epoch 14/40\n",
            "375/375 [==============================] - 11s 29ms/step - loss: 0.0137 - accuracy: 0.9808 - val_loss: 0.0424 - val_accuracy: 0.9508\n",
            "Epoch 15/40\n",
            "375/375 [==============================] - 11s 29ms/step - loss: 0.0128 - accuracy: 0.9816 - val_loss: 0.0440 - val_accuracy: 0.9506\n"
          ],
          "name": "stdout"
        },
        {
          "output_type": "execute_result",
          "data": {
            "text/plain": [
              "<tensorflow.python.keras.callbacks.History at 0x7f72a035b6a0>"
            ]
          },
          "metadata": {
            "tags": []
          },
          "execution_count": 27
        }
      ]
    },
    {
      "cell_type": "code",
      "metadata": {
        "id": "0qjVSUvyWkx_"
      },
      "source": [
        "def decode(pred_tag_index, idx2tag, sentence):\n",
        "  ret = [sentence[i] + \"(\" + idx2tag[pred_tag_index[i]] + \")\" for i in range(len(sentence))]\n",
        "  print(\" \".join(ret))"
      ],
      "execution_count": 16,
      "outputs": []
    },
    {
      "cell_type": "code",
      "metadata": {
        "id": "bys5_6m90Bq9"
      },
      "source": [
        "x_test = keras.preprocessing.sequence.pad_sequences(x_test,\n",
        "                                                     padding='post',\n",
        "                                                     value = word2idx[\"<PAD>\"],\n",
        "                                                     maxlen = 64)"
      ],
      "execution_count": 17,
      "outputs": []
    },
    {
      "cell_type": "code",
      "metadata": {
        "id": "hXyYaT5r0Bq9"
      },
      "source": [
        "y_test = keras.preprocessing.sequence.pad_sequences(y_test,\n",
        "                                                     padding='post',\n",
        "                                                     value = 0,\n",
        "                                                     maxlen = 64)"
      ],
      "execution_count": 18,
      "outputs": []
    },
    {
      "cell_type": "code",
      "metadata": {
        "id": "FDL-LjE70SXC"
      },
      "source": [
        "x_pred = model.predict(x_test)"
      ],
      "execution_count": 28,
      "outputs": []
    },
    {
      "cell_type": "code",
      "metadata": {
        "id": "AIpPzhCM0XLf"
      },
      "source": [
        "pred = tf.argmax(x_pred, axis=2)\n",
        "pred = pred.numpy()"
      ],
      "execution_count": 29,
      "outputs": []
    },
    {
      "cell_type": "code",
      "metadata": {
        "id": "hFBa5HXZ0eb1"
      },
      "source": [
        "from sklearn.metrics import classification_report"
      ],
      "execution_count": 21,
      "outputs": []
    },
    {
      "cell_type": "code",
      "metadata": {
        "id": "-0bASClr7UJ4"
      },
      "source": [
        "pred_label = []\n",
        "for i in range(len(right_test)):\n",
        "  pred_label += [idx2tag[pred[i][j]] for j in range(min(len(right_test[i]), 64))]\n",
        "real_label = []\n",
        "for i in range(len(right_test)):\n",
        "  real_label += [idx2tag[y_test[i][j]] for j in range(min(len(right_test[i]), 64))]"
      ],
      "execution_count": 30,
      "outputs": []
    },
    {
      "cell_type": "code",
      "metadata": {
        "colab": {
          "base_uri": "https://localhost:8080/"
        },
        "id": "wCIwH1ZK3EIb",
        "outputId": "e34362e2-17ca-4c86-c5e4-16bb0cfb063b"
      },
      "source": [
        "print(classification_report(pred_label, real_label))"
      ],
      "execution_count": 31,
      "outputs": [
        {
          "output_type": "stream",
          "text": [
            "/usr/local/lib/python3.6/dist-packages/sklearn/metrics/_classification.py:1272: UndefinedMetricWarning: Recall and F-score are ill-defined and being set to 0.0 in labels with no true samples. Use `zero_division` parameter to control this behavior.\n",
            "  _warn_prf(average, modifier, msg_start, len(result))\n"
          ],
          "name": "stderr"
        },
        {
          "output_type": "stream",
          "text": [
            "              precision    recall  f1-score   support\n",
            "\n",
            "      B-MISC       0.00      0.00      0.00         0\n",
            "       I-LOC       0.77      0.79      0.78      2029\n",
            "      I-MISC       0.71      0.83      0.77      1091\n",
            "       I-ORG       0.66      0.78      0.72      1785\n",
            "       I-PER       0.79      0.87      0.83      2824\n",
            "           O       0.98      0.97      0.98     43446\n",
            "\n",
            "    accuracy                           0.94     51175\n",
            "   macro avg       0.65      0.71      0.68     51175\n",
            "weighted avg       0.95      0.94      0.95     51175\n",
            "\n"
          ],
          "name": "stdout"
        }
      ]
    },
    {
      "cell_type": "code",
      "metadata": {
        "id": "9zrofD506DjK"
      },
      "source": [
        ""
      ],
      "execution_count": 23,
      "outputs": []
    }
  ]
}