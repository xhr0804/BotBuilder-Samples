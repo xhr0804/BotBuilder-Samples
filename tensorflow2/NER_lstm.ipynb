{
  "nbformat": 4,
  "nbformat_minor": 0,
  "metadata": {
    "colab": {
      "name": "NER-lstm.ipynb",
      "provenance": [],
      "collapsed_sections": [],
      "machine_shape": "hm",
      "include_colab_link": true
    },
    "kernelspec": {
      "name": "python3",
      "display_name": "Python 3"
    }
  },
  "cells": [
    {
      "cell_type": "markdown",
      "metadata": {
        "id": "view-in-github",
        "colab_type": "text"
      },
      "source": [
        "<a href=\"https://colab.research.google.com/github/xhr0804/BotBuilder-Samples/blob/master/tensorflow2/NER_lstm.ipynb\" target=\"_parent\"><img src=\"https://colab.research.google.com/assets/colab-badge.svg\" alt=\"Open In Colab\"/></a>"
      ]
    },
    {
      "cell_type": "code",
      "metadata": {
        "id": "LoD-DWn6HpZg",
        "colab": {
          "base_uri": "https://localhost:8080/"
        },
        "outputId": "fdcca15b-36e4-4ee9-f0c0-d761a1983325"
      },
      "source": [
        "!free -g"
      ],
      "execution_count": 1,
      "outputs": [
        {
          "output_type": "stream",
          "text": [
            "              total        used        free      shared  buff/cache   available\n",
            "Mem:             25           0          22           0           2          24\n",
            "Swap:             0           0           0\n"
          ],
          "name": "stdout"
        }
      ]
    },
    {
      "cell_type": "code",
      "metadata": {
        "colab": {
          "base_uri": "https://localhost:8080/"
        },
        "id": "xkTK-5lr_OPg",
        "outputId": "392b928b-662d-4c96-8678-7ad4c18a8547"
      },
      "source": [
        "!wget https://raw.githubusercontent.com/synalp/NER/master/corpus/CoNLL-2003/eng.train\n",
        "!wget https://raw.githubusercontent.com/synalp/NER/master/corpus/CoNLL-2003/eng.testa"
      ],
      "execution_count": 2,
      "outputs": [
        {
          "output_type": "stream",
          "text": [
            "--2020-12-05 02:40:59--  https://raw.githubusercontent.com/synalp/NER/master/corpus/CoNLL-2003/eng.train\n",
            "Resolving raw.githubusercontent.com (raw.githubusercontent.com)... 151.101.0.133, 151.101.64.133, 151.101.128.133, ...\n",
            "Connecting to raw.githubusercontent.com (raw.githubusercontent.com)|151.101.0.133|:443... connected.\n",
            "HTTP request sent, awaiting response... 200 OK\n",
            "Length: 3281528 (3.1M) [text/plain]\n",
            "Saving to: ‘eng.train.2’\n",
            "\n",
            "eng.train.2         100%[===================>]   3.13M  --.-KB/s    in 0.1s    \n",
            "\n",
            "2020-12-05 02:40:59 (28.4 MB/s) - ‘eng.train.2’ saved [3281528/3281528]\n",
            "\n",
            "--2020-12-05 02:40:59--  https://raw.githubusercontent.com/synalp/NER/master/corpus/CoNLL-2003/eng.testa\n",
            "Resolving raw.githubusercontent.com (raw.githubusercontent.com)... 151.101.0.133, 151.101.64.133, 151.101.128.133, ...\n",
            "Connecting to raw.githubusercontent.com (raw.githubusercontent.com)|151.101.0.133|:443... connected.\n",
            "HTTP request sent, awaiting response... 200 OK\n",
            "Length: 827012 (808K) [text/plain]\n",
            "Saving to: ‘eng.testa.2’\n",
            "\n",
            "eng.testa.2         100%[===================>] 807.63K  --.-KB/s    in 0.02s   \n",
            "\n",
            "2020-12-05 02:41:00 (35.8 MB/s) - ‘eng.testa.2’ saved [827012/827012]\n",
            "\n"
          ],
          "name": "stdout"
        }
      ]
    },
    {
      "cell_type": "code",
      "metadata": {
        "id": "fbokxIADJP1J",
        "colab": {
          "base_uri": "https://localhost:8080/"
        },
        "outputId": "456b20e5-0bb0-4367-9dac-4d3e6d42f3df"
      },
      "source": [
        "!ls -ls"
      ],
      "execution_count": 3,
      "outputs": [
        {
          "output_type": "stream",
          "text": [
            "total 12052\n",
            " 808 -rw-r--r-- 1 root root  827012 Dec  5 02:18 eng.testa\n",
            " 808 -rw-r--r-- 1 root root  827012 Dec  5 02:33 eng.testa.1\n",
            " 808 -rw-r--r-- 1 root root  827012 Dec  5 02:41 eng.testa.2\n",
            "3208 -rw-r--r-- 1 root root 3281528 Dec  5 02:18 eng.train\n",
            "3208 -rw-r--r-- 1 root root 3281528 Dec  5 02:33 eng.train.1\n",
            "3208 -rw-r--r-- 1 root root 3281528 Dec  5 02:40 eng.train.2\n",
            "   4 drwxr-xr-x 1 root root    4096 Dec  2 22:04 sample_data\n"
          ],
          "name": "stdout"
        }
      ]
    },
    {
      "cell_type": "code",
      "metadata": {
        "colab": {
          "base_uri": "https://localhost:8080/"
        },
        "id": "sxMsyZaFhvwt",
        "outputId": "f2fbcfd4-c73b-4fb4-de95-da9741c30fc5"
      },
      "source": [
        "import tensorflow as tf\n",
        "from tensorflow import keras\n",
        "\n",
        "import numpy as np\n",
        "import time\n",
        "import matplotlib.pyplot as plt\n",
        "\n",
        "print(tf.__version__)\n",
        "# print(\"Num GPUs Available: \", len(tf.config.experimental.list_physical_devices('GPU')))"
      ],
      "execution_count": 4,
      "outputs": [
        {
          "output_type": "stream",
          "text": [
            "2.3.0\n"
          ],
          "name": "stdout"
        }
      ]
    },
    {
      "cell_type": "code",
      "metadata": {
        "id": "k3fD4VEC5_z9"
      },
      "source": [
        "def countWord(file):\n",
        "  word_count = {}\n",
        "  tag_count = {}\n",
        "  for line in open(file):\n",
        "    if '-DOCSTART-' in line or not len(line.strip('\\n')):\n",
        "      continue\n",
        "    splitted = line.split()\n",
        "    if splitted[0] in word_count:\n",
        "      word_count[splitted[0]] += 1\n",
        "    else:\n",
        "      word_count[splitted[0]] = 1\n",
        "    if splitted[-1] in tag_count:\n",
        "      tag_count[splitted[-1]] += 1\n",
        "    else:\n",
        "      tag_count[splitted[-1]] = 1\n",
        "  return word_count, tag_count"
      ],
      "execution_count": 5,
      "outputs": []
    },
    {
      "cell_type": "code",
      "metadata": {
        "id": "OfSP-jhLIafy"
      },
      "source": [
        "word_count, tag_count = countWord('eng.train')\n",
        "sorted_word_count = sorted(word_count.items(), key=lambda x: x[1], reverse=True)\n",
        "word2idx = {kv[0]: index+2 for index, kv in enumerate(sorted_word_count)}\n",
        "word2idx[\"<PAD>\"] = 0\n",
        "word2idx[\"<UNK>\"] = 1\n",
        "idx2word = {idx:word for word, idx in word2idx.items()}\n",
        "sorted_tag_count = sorted(tag_count.items(), key=lambda x: x[1], reverse=True)\n",
        "tag2idx = {kv[0]: index for index, kv in enumerate(sorted_tag_count)}\n",
        "idx2tag = {idx:tag for tag, idx in tag2idx.items()}"
      ],
      "execution_count": 6,
      "outputs": []
    },
    {
      "cell_type": "code",
      "metadata": {
        "id": "pmIJJ0as_Q2N"
      },
      "source": [
        "def parse(file):\n",
        "  left, right = [], []\n",
        "  for line in open(file):\n",
        "    line = line.strip()\n",
        "    if '-DOCSTART-' in line:\n",
        "      this_left, this_right = [], []\n",
        "    elif not len(line):\n",
        "      if len(this_left) > 0:\n",
        "        left.append(this_left)\n",
        "        right.append(this_right)\n",
        "      this_left, this_right = [], []\n",
        "    else:\n",
        "      splitted = line.split()\n",
        "      this_left.append(splitted[0])\n",
        "      this_right.append(splitted[-1])\n",
        "  return left, right"
      ],
      "execution_count": 7,
      "outputs": []
    },
    {
      "cell_type": "code",
      "metadata": {
        "id": "Cjz3WN_Z_XPC"
      },
      "source": [
        "left_train, right_train = parse('eng.train')\n",
        "left_test, right_test = parse('eng.testa')"
      ],
      "execution_count": 8,
      "outputs": []
    },
    {
      "cell_type": "code",
      "metadata": {
        "colab": {
          "base_uri": "https://localhost:8080/"
        },
        "id": "BZb50iaXdi7D",
        "outputId": "63254e2f-5563-43da-df88-ae5695d6c18f"
      },
      "source": [
        "print(left_train[:5])\n",
        "print(right_train[:5])\n",
        "print(len(left_train))"
      ],
      "execution_count": 9,
      "outputs": [
        {
          "output_type": "stream",
          "text": [
            "[['EU', 'rejects', 'German', 'call', 'to', 'boycott', 'British', 'lamb', '.'], ['Peter', 'Blackburn'], ['BRUSSELS', '1996-08-22'], ['The', 'European', 'Commission', 'said', 'on', 'Thursday', 'it', 'disagreed', 'with', 'German', 'advice', 'to', 'consumers', 'to', 'shun', 'British', 'lamb', 'until', 'scientists', 'determine', 'whether', 'mad', 'cow', 'disease', 'can', 'be', 'transmitted', 'to', 'sheep', '.'], ['Germany', \"'s\", 'representative', 'to', 'the', 'European', 'Union', \"'s\", 'veterinary', 'committee', 'Werner', 'Zwingmann', 'said', 'on', 'Wednesday', 'consumers', 'should', 'buy', 'sheepmeat', 'from', 'countries', 'other', 'than', 'Britain', 'until', 'the', 'scientific', 'advice', 'was', 'clearer', '.']]\n",
            "[['I-ORG', 'O', 'I-MISC', 'O', 'O', 'O', 'I-MISC', 'O', 'O'], ['I-PER', 'I-PER'], ['I-LOC', 'O'], ['O', 'I-ORG', 'I-ORG', 'O', 'O', 'O', 'O', 'O', 'O', 'I-MISC', 'O', 'O', 'O', 'O', 'O', 'I-MISC', 'O', 'O', 'O', 'O', 'O', 'O', 'O', 'O', 'O', 'O', 'O', 'O', 'O', 'O'], ['I-LOC', 'O', 'O', 'O', 'O', 'I-ORG', 'I-ORG', 'O', 'O', 'O', 'I-PER', 'I-PER', 'O', 'O', 'O', 'O', 'O', 'O', 'O', 'O', 'O', 'O', 'O', 'I-LOC', 'O', 'O', 'O', 'O', 'O', 'O', 'O']]\n",
            "14041\n"
          ],
          "name": "stdout"
        }
      ]
    },
    {
      "cell_type": "code",
      "metadata": {
        "id": "Dn85jQMozhgs"
      },
      "source": [
        "def convertWord2Idx(words, map, threshold):\n",
        "  ret = []\n",
        "  for word in words:\n",
        "    if word in map and map[word] < threshold:\n",
        "      ret.append(map[word])\n",
        "    else:\n",
        "      ret.append(map[\"<UNK>\"])\n",
        "  return np.array(ret, dtype=np.int32)"
      ],
      "execution_count": 10,
      "outputs": []
    },
    {
      "cell_type": "code",
      "metadata": {
        "id": "w0nfVT8OhF-N"
      },
      "source": [
        "x_train = np.array([convertWord2Idx(words, word2idx, 10000) for words in left_train])\n",
        "y_train = np.array([convertWord2Idx(words, tag2idx, 10000) for words in right_train])\n",
        "x_test = np.array([convertWord2Idx(words, word2idx, 10000) for words in left_test])\n",
        "y_test = np.array([convertWord2Idx(words, tag2idx, 10000) for words in right_test])"
      ],
      "execution_count": 11,
      "outputs": []
    },
    {
      "cell_type": "code",
      "metadata": {
        "id": "wZhlumvCp25y"
      },
      "source": [
        "x_train = keras.preprocessing.sequence.pad_sequences(x_train,\n",
        "                                                     padding='post',\n",
        "                                                     value = word2idx[\"<PAD>\"],\n",
        "                                                     maxlen = 64)"
      ],
      "execution_count": 12,
      "outputs": []
    },
    {
      "cell_type": "code",
      "metadata": {
        "id": "3qOaqPPE5cfN"
      },
      "source": [
        "y_train = keras.preprocessing.sequence.pad_sequences(y_train,\n",
        "                                                     padding='post',\n",
        "                                                     value = 0,\n",
        "                                                     maxlen = 64)"
      ],
      "execution_count": 13,
      "outputs": []
    },
    {
      "cell_type": "code",
      "metadata": {
        "id": "vBGqJ9xepRXB"
      },
      "source": [
        "# print(x_train[:3])\n",
        "# print(y_train[:3])"
      ],
      "execution_count": 14,
      "outputs": []
    },
    {
      "cell_type": "code",
      "metadata": {
        "colab": {
          "base_uri": "https://localhost:8080/"
        },
        "id": "vmq2IfRaruej",
        "outputId": "dad30547-8a26-4d08-82c3-87a858481081"
      },
      "source": [
        "print(type(x_train))\n",
        "print(type(x_train[0]))\n",
        "print(type(x_train[0][0]))"
      ],
      "execution_count": 15,
      "outputs": [
        {
          "output_type": "stream",
          "text": [
            "<class 'numpy.ndarray'>\n",
            "<class 'numpy.ndarray'>\n",
            "<class 'numpy.int32'>\n"
          ],
          "name": "stdout"
        }
      ]
    },
    {
      "cell_type": "code",
      "metadata": {
        "colab": {
          "base_uri": "https://localhost:8080/"
        },
        "id": "DZQdcqxinP5x",
        "outputId": "49c8bf20-644d-416f-aa44-4554c6a02d48"
      },
      "source": [
        "print(type(y_train))\n",
        "print(type(y_train[0]))\n",
        "print(type(y_train[0][0]))"
      ],
      "execution_count": 16,
      "outputs": [
        {
          "output_type": "stream",
          "text": [
            "<class 'numpy.ndarray'>\n",
            "<class 'numpy.ndarray'>\n",
            "<class 'numpy.int32'>\n"
          ],
          "name": "stdout"
        }
      ]
    },
    {
      "cell_type": "code",
      "metadata": {
        "id": "U0CAU0SMhWtt"
      },
      "source": [
        "# print(x_train[:5])\n",
        "# print(y_train[:5])"
      ],
      "execution_count": 17,
      "outputs": []
    },
    {
      "cell_type": "code",
      "metadata": {
        "id": "-2OSSnu_y0Go"
      },
      "source": [
        "model = keras.Sequential([\n",
        "  keras.layers.Embedding(10000, 16, mask_zero=True), #padding/mask https://www.tensorflow.org/guide/keras/masking_and_padding\n",
        "  keras.layers.LSTM(16, return_sequences=True),\n",
        "  keras.layers.Dense(8)\n",
        "])"
      ],
      "execution_count": 18,
      "outputs": []
    },
    {
      "cell_type": "code",
      "metadata": {
        "colab": {
          "base_uri": "https://localhost:8080/"
        },
        "id": "LXVridkFx3zd",
        "outputId": "a2cb5a89-26a9-48d5-9d64-acf1aa70158a"
      },
      "source": [
        "model.summary()"
      ],
      "execution_count": 19,
      "outputs": [
        {
          "output_type": "stream",
          "text": [
            "Model: \"sequential\"\n",
            "_________________________________________________________________\n",
            "Layer (type)                 Output Shape              Param #   \n",
            "=================================================================\n",
            "embedding (Embedding)        (None, None, 16)          160000    \n",
            "_________________________________________________________________\n",
            "lstm (LSTM)                  (None, None, 16)          2112      \n",
            "_________________________________________________________________\n",
            "dense (Dense)                (None, None, 8)           136       \n",
            "=================================================================\n",
            "Total params: 162,248\n",
            "Trainable params: 162,248\n",
            "Non-trainable params: 0\n",
            "_________________________________________________________________\n"
          ],
          "name": "stdout"
        }
      ]
    },
    {
      "cell_type": "code",
      "metadata": {
        "id": "wsEXnwiSjMNt"
      },
      "source": [
        "earlystopping = tf.keras.callbacks.EarlyStopping(monitor='val_loss', patience=5)"
      ],
      "execution_count": 20,
      "outputs": []
    },
    {
      "cell_type": "code",
      "metadata": {
        "id": "Tn8QAH-ajgY6"
      },
      "source": [
        "model.compile(optimizer='adam', \n",
        "              # if use CategoricalCrossentropy(), should be one hot.\n",
        "              loss = tf.keras.losses.SparseCategoricalCrossentropy(),\n",
        "              metrics=['accuracy'])"
      ],
      "execution_count": 21,
      "outputs": []
    },
    {
      "cell_type": "code",
      "metadata": {
        "id": "1nEdP9Q2tAlx"
      },
      "source": [
        "for i in y_train:\n",
        "  for y in i:\n",
        "    if type(y) != type(x_train[0][0]):\n",
        "      print(y)\n",
        "      break;"
      ],
      "execution_count": 22,
      "outputs": []
    },
    {
      "cell_type": "code",
      "metadata": {
        "colab": {
          "base_uri": "https://localhost:8080/"
        },
        "id": "eFS7LiQw4sFA",
        "outputId": "c267ed3c-f6c4-4571-de60-7643c5ec45d0"
      },
      "source": [
        "x_train[:2]"
      ],
      "execution_count": 23,
      "outputs": [
        {
          "output_type": "execute_result",
          "data": {
            "text/plain": [
              "array([[ 958,    1,  234,  763,    7, 4148,  210, 6183,    2,    0,    0,\n",
              "           0,    0,    0,    0,    0,    0,    0,    0,    0,    0,    0,\n",
              "           0,    0,    0,    0,    0,    0,    0,    0,    0,    0,    0,\n",
              "           0,    0,    0,    0,    0,    0,    0,    0,    0,    0,    0,\n",
              "           0,    0,    0,    0,    0,    0,    0,    0,    0,    0,    0,\n",
              "           0,    0,    0,    0,    0,    0,    0,    0,    0],\n",
              "       [ 733, 2069,    0,    0,    0,    0,    0,    0,    0,    0,    0,\n",
              "           0,    0,    0,    0,    0,    0,    0,    0,    0,    0,    0,\n",
              "           0,    0,    0,    0,    0,    0,    0,    0,    0,    0,    0,\n",
              "           0,    0,    0,    0,    0,    0,    0,    0,    0,    0,    0,\n",
              "           0,    0,    0,    0,    0,    0,    0,    0,    0,    0,    0,\n",
              "           0,    0,    0,    0,    0,    0,    0,    0,    0]],\n",
              "      dtype=int32)"
            ]
          },
          "metadata": {
            "tags": []
          },
          "execution_count": 23
        }
      ]
    },
    {
      "cell_type": "code",
      "metadata": {
        "colab": {
          "base_uri": "https://localhost:8080/"
        },
        "id": "gYkAwMQN4850",
        "outputId": "ce8e7102-bee5-4d68-9d14-ecbe3bcab359"
      },
      "source": [
        "y_train[:2]"
      ],
      "execution_count": 24,
      "outputs": [
        {
          "output_type": "execute_result",
          "data": {
            "text/plain": [
              "array([[2, 0, 4, 0, 0, 0, 4, 0, 0, 0, 0, 0, 0, 0, 0, 0, 0, 0, 0, 0, 0, 0,\n",
              "        0, 0, 0, 0, 0, 0, 0, 0, 0, 0, 0, 0, 0, 0, 0, 0, 0, 0, 0, 0, 0, 0,\n",
              "        0, 0, 0, 0, 0, 0, 0, 0, 0, 0, 0, 0, 0, 0, 0, 0, 0, 0, 0, 0],\n",
              "       [1, 1, 0, 0, 0, 0, 0, 0, 0, 0, 0, 0, 0, 0, 0, 0, 0, 0, 0, 0, 0, 0,\n",
              "        0, 0, 0, 0, 0, 0, 0, 0, 0, 0, 0, 0, 0, 0, 0, 0, 0, 0, 0, 0, 0, 0,\n",
              "        0, 0, 0, 0, 0, 0, 0, 0, 0, 0, 0, 0, 0, 0, 0, 0, 0, 0, 0, 0]],\n",
              "      dtype=int32)"
            ]
          },
          "metadata": {
            "tags": []
          },
          "execution_count": 24
        }
      ]
    },
    {
      "cell_type": "code",
      "metadata": {
        "colab": {
          "base_uri": "https://localhost:8080/"
        },
        "id": "lKdHDkb1x_4u",
        "outputId": "03978786-1f5d-4232-dd46-6477223e5a11"
      },
      "source": [
        "model.fit(\n",
        "    x = x_train[:12000], # batchsize * sentence_len(word index)\n",
        "    y = y_train[:12000], # batchsize * sentence_len(tag index)\n",
        "    batch_size = 32,\n",
        "    epochs = 40,\n",
        "    validation_data = (x_train[12000:], y_train[12000:]),\n",
        "    callbacks = [earlystopping]\n",
        ")"
      ],
      "execution_count": 25,
      "outputs": [
        {
          "output_type": "stream",
          "text": [
            "Epoch 1/40\n",
            "375/375 [==============================] - 13s 34ms/step - loss: 0.1883 - accuracy: 0.8224 - val_loss: 0.1239 - val_accuracy: 0.8620\n",
            "Epoch 2/40\n",
            "375/375 [==============================] - 11s 30ms/step - loss: 0.1140 - accuracy: 0.8427 - val_loss: 0.0989 - val_accuracy: 0.8733\n",
            "Epoch 3/40\n",
            "375/375 [==============================] - 11s 30ms/step - loss: 0.0709 - accuracy: 0.8797 - val_loss: 0.1001 - val_accuracy: 0.8972\n",
            "Epoch 4/40\n",
            "375/375 [==============================] - 11s 30ms/step - loss: 0.0758 - accuracy: 0.8781 - val_loss: 0.0963 - val_accuracy: 0.8606\n",
            "Epoch 5/40\n",
            "375/375 [==============================] - 11s 30ms/step - loss: 0.0721 - accuracy: 0.8523 - val_loss: 0.0915 - val_accuracy: 0.8732\n",
            "Epoch 6/40\n",
            "375/375 [==============================] - 11s 30ms/step - loss: 0.0627 - accuracy: 0.8699 - val_loss: 0.0895 - val_accuracy: 0.8847\n",
            "Epoch 7/40\n",
            "375/375 [==============================] - 11s 30ms/step - loss: 0.0555 - accuracy: 0.8883 - val_loss: 0.0883 - val_accuracy: 0.8956\n",
            "Epoch 8/40\n",
            "375/375 [==============================] - 12s 31ms/step - loss: 0.0491 - accuracy: 0.9053 - val_loss: 0.0872 - val_accuracy: 0.9046\n",
            "Epoch 9/40\n",
            "375/375 [==============================] - 11s 29ms/step - loss: 0.0441 - accuracy: 0.9182 - val_loss: 0.0868 - val_accuracy: 0.9082\n",
            "Epoch 10/40\n",
            "375/375 [==============================] - 11s 29ms/step - loss: 0.0395 - accuracy: 0.9301 - val_loss: 0.0974 - val_accuracy: 0.9212\n",
            "Epoch 11/40\n",
            "375/375 [==============================] - 11s 30ms/step - loss: 0.0428 - accuracy: 0.9279 - val_loss: 0.0955 - val_accuracy: 0.8747\n",
            "Epoch 12/40\n",
            "375/375 [==============================] - 11s 30ms/step - loss: 0.0519 - accuracy: 0.8828 - val_loss: 0.0863 - val_accuracy: 0.9014\n",
            "Epoch 13/40\n",
            "375/375 [==============================] - 11s 29ms/step - loss: 0.0438 - accuracy: 0.9184 - val_loss: 0.0829 - val_accuracy: 0.9184\n",
            "Epoch 14/40\n",
            "375/375 [==============================] - 11s 30ms/step - loss: 0.0376 - accuracy: 0.9385 - val_loss: 0.0793 - val_accuracy: 0.9310\n",
            "Epoch 15/40\n",
            "375/375 [==============================] - 11s 29ms/step - loss: 0.0317 - accuracy: 0.9504 - val_loss: 0.0825 - val_accuracy: 0.9374\n",
            "Epoch 16/40\n",
            "375/375 [==============================] - 11s 30ms/step - loss: 0.0312 - accuracy: 0.9507 - val_loss: 0.0769 - val_accuracy: 0.9291\n",
            "Epoch 17/40\n",
            "375/375 [==============================] - 11s 30ms/step - loss: 0.0330 - accuracy: 0.9499 - val_loss: 0.0759 - val_accuracy: 0.9416\n",
            "Epoch 18/40\n",
            "375/375 [==============================] - 11s 29ms/step - loss: 0.0261 - accuracy: 0.9598 - val_loss: 0.0767 - val_accuracy: 0.9460\n",
            "Epoch 19/40\n",
            "375/375 [==============================] - 11s 29ms/step - loss: 0.0232 - accuracy: 0.9639 - val_loss: 0.0780 - val_accuracy: 0.9475\n",
            "Epoch 20/40\n",
            "375/375 [==============================] - 11s 29ms/step - loss: 0.0221 - accuracy: 0.9664 - val_loss: 0.0850 - val_accuracy: 0.9480\n",
            "Epoch 21/40\n",
            "375/375 [==============================] - 11s 30ms/step - loss: 0.0360 - accuracy: 0.9488 - val_loss: 0.0779 - val_accuracy: 0.9445\n",
            "Epoch 22/40\n",
            "375/375 [==============================] - 11s 30ms/step - loss: 0.0249 - accuracy: 0.9644 - val_loss: 0.0788 - val_accuracy: 0.9484\n"
          ],
          "name": "stdout"
        },
        {
          "output_type": "execute_result",
          "data": {
            "text/plain": [
              "<tensorflow.python.keras.callbacks.History at 0x7fb0ea3f1cc0>"
            ]
          },
          "metadata": {
            "tags": []
          },
          "execution_count": 25
        }
      ]
    },
    {
      "cell_type": "code",
      "metadata": {
        "id": "a3bApLhOQqB6"
      },
      "source": [
        "x_pred = model.predict(x_train[:10, :10])"
      ],
      "execution_count": 36,
      "outputs": []
    },
    {
      "cell_type": "code",
      "metadata": {
        "colab": {
          "base_uri": "https://localhost:8080/"
        },
        "id": "fd-v5H3SQzGx",
        "outputId": "60e46ebf-d8c1-4b3f-b082-78391b84dc2f"
      },
      "source": [
        "x_pred[0]"
      ],
      "execution_count": 27,
      "outputs": [
        {
          "output_type": "execute_result",
          "data": {
            "text/plain": [
              "array([[-0.09160127, -0.09651791,  0.1363525 , -0.08148149, -0.0534771 ,\n",
              "        -0.04810348, -0.15439141, -0.15556622],\n",
              "       [ 0.10157729, -0.00080369,  0.10751305, -0.0809681 , -0.03987847,\n",
              "        -0.07787485, -0.13765295, -0.13717373],\n",
              "       [-0.04216807, -0.04479156, -0.00328986, -0.16247433,  0.1022789 ,\n",
              "        -0.12491561, -0.20857745, -0.20520884],\n",
              "       [ 0.18904963, -0.07787696, -0.2401216 , -0.25603452, -0.1519022 ,\n",
              "        -0.13334757, -0.2588584 , -0.20988387],\n",
              "       [ 0.24817798, -0.11924468, -0.28075442, -0.21741584, -0.15434244,\n",
              "        -0.13063264, -0.29326335, -0.2093984 ],\n",
              "       [ 0.23242828, -0.11067462, -0.26406065, -0.20214431, -0.08678062,\n",
              "        -0.13031885, -0.28472108, -0.21106806],\n",
              "       [-0.00459761, -0.05415946, -0.13124481,  0.02191197,  0.19112122,\n",
              "        -0.14641052, -0.30423757, -0.19865073],\n",
              "       [ 0.24196947, -0.17153585, -0.24138421, -0.15761752, -0.08175099,\n",
              "        -0.13587892, -0.29605454, -0.22176164],\n",
              "       [ 0.4179797 , -0.29753563, -0.39304268, -0.35799795, -0.24653302,\n",
              "        -0.1389277 , -0.33671284, -0.2531534 ],\n",
              "       [ 0.4179797 , -0.29753563, -0.39304268, -0.35799795, -0.24653302,\n",
              "        -0.1389277 , -0.33671284, -0.2531534 ]], dtype=float32)"
            ]
          },
          "metadata": {
            "tags": []
          },
          "execution_count": 27
        }
      ]
    },
    {
      "cell_type": "code",
      "metadata": {
        "id": "VPK0OEjaQ0ma"
      },
      "source": [
        "pred = tf.argmax(x_pred, axis=2)"
      ],
      "execution_count": 28,
      "outputs": []
    },
    {
      "cell_type": "code",
      "metadata": {
        "colab": {
          "base_uri": "https://localhost:8080/"
        },
        "id": "WCpYvBG_WcJN",
        "outputId": "75ec5543-1af9-42b9-f26e-06fa17841f40"
      },
      "source": [
        "pred"
      ],
      "execution_count": 29,
      "outputs": [
        {
          "output_type": "execute_result",
          "data": {
            "text/plain": [
              "<tf.Tensor: shape=(10, 10), dtype=int64, numpy=\n",
              "array([[2, 2, 4, 0, 0, 0, 4, 0, 0, 0],\n",
              "       [1, 1, 1, 1, 1, 1, 1, 1, 1, 1],\n",
              "       [3, 0, 0, 0, 0, 0, 0, 0, 0, 0],\n",
              "       [0, 4, 2, 0, 0, 0, 0, 0, 0, 4],\n",
              "       [3, 0, 0, 0, 0, 4, 2, 0, 0, 0],\n",
              "       [0, 0, 0, 0, 0, 0, 0, 0, 0, 0],\n",
              "       [0, 0, 0, 0, 0, 0, 0, 0, 0, 0],\n",
              "       [0, 0, 0, 0, 0, 0, 0, 2, 0, 0],\n",
              "       [1, 0, 0, 0, 0, 0, 0, 3, 0, 3],\n",
              "       [0, 1, 0, 0, 0, 0, 0, 0, 0, 2]])>"
            ]
          },
          "metadata": {
            "tags": []
          },
          "execution_count": 29
        }
      ]
    },
    {
      "cell_type": "code",
      "metadata": {
        "colab": {
          "base_uri": "https://localhost:8080/"
        },
        "id": "JmIsVqqbWdF_",
        "outputId": "ee153611-901f-4a52-9610-d0c8b091e714"
      },
      "source": [
        "y_train[:10, :10]"
      ],
      "execution_count": 30,
      "outputs": [
        {
          "output_type": "execute_result",
          "data": {
            "text/plain": [
              "array([[2, 0, 4, 0, 0, 0, 4, 0, 0, 0],\n",
              "       [1, 1, 0, 0, 0, 0, 0, 0, 0, 0],\n",
              "       [3, 0, 0, 0, 0, 0, 0, 0, 0, 0],\n",
              "       [0, 2, 2, 0, 0, 0, 0, 0, 0, 4],\n",
              "       [3, 0, 0, 0, 0, 2, 2, 0, 0, 0],\n",
              "       [0, 0, 0, 0, 0, 0, 0, 0, 0, 0],\n",
              "       [0, 0, 0, 0, 0, 0, 0, 0, 0, 0],\n",
              "       [0, 0, 0, 0, 0, 0, 0, 2, 0, 0],\n",
              "       [1, 0, 4, 0, 0, 0, 0, 3, 0, 3],\n",
              "       [0, 1, 0, 0, 0, 0, 0, 0, 0, 2]], dtype=int32)"
            ]
          },
          "metadata": {
            "tags": []
          },
          "execution_count": 30
        }
      ]
    },
    {
      "cell_type": "code",
      "metadata": {
        "id": "0qjVSUvyWkx_"
      },
      "source": [
        "def decode(pred_tag_index, idx2tag, sentence):\n",
        "  ret = [sentence[i] + \"(\" + idx2tag[pred_tag_index[i]] + \")\" for i in range(len(sentence))]\n",
        "  print(\" \".join(ret))"
      ],
      "execution_count": 31,
      "outputs": []
    },
    {
      "cell_type": "code",
      "metadata": {
        "colab": {
          "base_uri": "https://localhost:8080/"
        },
        "id": "P9HOQKmEZXVK",
        "outputId": "47da99f4-e536-4fee-a397-9e1a4fbc3091"
      },
      "source": [
        "decode(pred[0].numpy(), idx2tag, left_train[0])"
      ],
      "execution_count": 32,
      "outputs": [
        {
          "output_type": "stream",
          "text": [
            "EU(I-ORG) rejects(I-ORG) German(I-MISC) call(O) to(O) boycott(O) British(I-MISC) lamb(O) .(O)\n"
          ],
          "name": "stdout"
        }
      ]
    },
    {
      "cell_type": "code",
      "metadata": {
        "colab": {
          "base_uri": "https://localhost:8080/"
        },
        "id": "3bVix_fhZ7f9",
        "outputId": "363f948e-13ac-44ea-8555-be2c0f6d0061"
      },
      "source": [
        "pred[0][0].numpy()"
      ],
      "execution_count": 33,
      "outputs": [
        {
          "output_type": "execute_result",
          "data": {
            "text/plain": [
              "2"
            ]
          },
          "metadata": {
            "tags": []
          },
          "execution_count": 33
        }
      ]
    },
    {
      "cell_type": "code",
      "metadata": {
        "id": "bys5_6m90Bq9"
      },
      "source": [
        "x_test = keras.preprocessing.sequence.pad_sequences(x_test,\n",
        "                                                     padding='post',\n",
        "                                                     value = word2idx[\"<PAD>\"],\n",
        "                                                     maxlen = 64)"
      ],
      "execution_count": 61,
      "outputs": []
    },
    {
      "cell_type": "code",
      "metadata": {
        "id": "hXyYaT5r0Bq9"
      },
      "source": [
        "y_test = keras.preprocessing.sequence.pad_sequences(y_test,\n",
        "                                                     padding='post',\n",
        "                                                     value = 0,\n",
        "                                                     maxlen = 64)"
      ],
      "execution_count": 62,
      "outputs": []
    },
    {
      "cell_type": "code",
      "metadata": {
        "colab": {
          "base_uri": "https://localhost:8080/"
        },
        "id": "_me8xSMe7BB8",
        "outputId": "bce3c981-f659-4738-93f7-f4206ece9f30"
      },
      "source": [
        "x_test.shape"
      ],
      "execution_count": 67,
      "outputs": [
        {
          "output_type": "execute_result",
          "data": {
            "text/plain": [
              "(3250, 64)"
            ]
          },
          "metadata": {
            "tags": []
          },
          "execution_count": 67
        }
      ]
    },
    {
      "cell_type": "code",
      "metadata": {
        "colab": {
          "base_uri": "https://localhost:8080/"
        },
        "id": "2pV1uuYw6Ihz",
        "outputId": "290a0154-3870-4c31-fd5c-26ea8cd09a74"
      },
      "source": [
        "x_train[0]"
      ],
      "execution_count": 50,
      "outputs": [
        {
          "output_type": "execute_result",
          "data": {
            "text/plain": [
              "array([ 958,    1,  234,  763,    7, 4148,  210, 6183,    2,    0,    0,\n",
              "          0,    0,    0,    0,    0,    0,    0,    0,    0,    0,    0,\n",
              "          0,    0,    0,    0,    0,    0,    0,    0,    0,    0,    0,\n",
              "          0,    0,    0,    0,    0,    0,    0,    0,    0,    0,    0,\n",
              "          0,    0,    0,    0,    0,    0,    0,    0,    0,    0,    0,\n",
              "          0,    0,    0,    0,    0,    0,    0,    0,    0], dtype=int32)"
            ]
          },
          "metadata": {
            "tags": []
          },
          "execution_count": 50
        }
      ]
    },
    {
      "cell_type": "code",
      "metadata": {
        "colab": {
          "base_uri": "https://localhost:8080/"
        },
        "id": "YRRpPFTH5yNX",
        "outputId": "d6a6c9b4-f00f-4f1a-f4a5-867c95a80741"
      },
      "source": [
        "x_test[0]"
      ],
      "execution_count": 49,
      "outputs": [
        {
          "output_type": "execute_result",
          "data": {
            "text/plain": [
              "array([ 451,   18,    1, 9043, 8348,  127, 7587, 1827,    1,    1,    2],\n",
              "      dtype=int32)"
            ]
          },
          "metadata": {
            "tags": []
          },
          "execution_count": 49
        }
      ]
    },
    {
      "cell_type": "code",
      "metadata": {
        "colab": {
          "base_uri": "https://localhost:8080/"
        },
        "id": "FDL-LjE70SXC",
        "outputId": "22658c25-fe86-4fbd-ec2f-43c6d11c82e1"
      },
      "source": [
        "x_pred = model.predict(x_test)"
      ],
      "execution_count": 68,
      "outputs": [
        {
          "output_type": "stream",
          "text": [
            "WARNING:tensorflow:5 out of the last 12 calls to <function Model.make_predict_function.<locals>.predict_function at 0x7fb0e553d730> triggered tf.function retracing. Tracing is expensive and the excessive number of tracings could be due to (1) creating @tf.function repeatedly in a loop, (2) passing tensors with different shapes, (3) passing Python objects instead of tensors. For (1), please define your @tf.function outside of the loop. For (2), @tf.function has experimental_relax_shapes=True option that relaxes argument shapes that can avoid unnecessary retracing. For (3), please refer to https://www.tensorflow.org/tutorials/customization/performance#python_or_tensor_args and https://www.tensorflow.org/api_docs/python/tf/function for  more details.\n"
          ],
          "name": "stdout"
        }
      ]
    },
    {
      "cell_type": "code",
      "metadata": {
        "id": "AIpPzhCM0XLf"
      },
      "source": [
        "pred = tf.argmax(x_pred, axis=2)"
      ],
      "execution_count": 69,
      "outputs": []
    },
    {
      "cell_type": "code",
      "metadata": {
        "colab": {
          "base_uri": "https://localhost:8080/"
        },
        "id": "jzhqWyvR0Xdw",
        "outputId": "ca178755-7939-42f8-d50e-060a3f9e2582"
      },
      "source": [
        "pred.shape"
      ],
      "execution_count": 70,
      "outputs": [
        {
          "output_type": "execute_result",
          "data": {
            "text/plain": [
              "TensorShape([3250, 64])"
            ]
          },
          "metadata": {
            "tags": []
          },
          "execution_count": 70
        }
      ]
    },
    {
      "cell_type": "code",
      "metadata": {
        "colab": {
          "base_uri": "https://localhost:8080/"
        },
        "id": "xVt9f6m28F1e",
        "outputId": "b83a855e-630c-4216-d30f-f3c3d5f4e6d7"
      },
      "source": [
        "pred[:10, :10]"
      ],
      "execution_count": 71,
      "outputs": [
        {
          "output_type": "execute_result",
          "data": {
            "text/plain": [
              "<tf.Tensor: shape=(10, 10), dtype=int64, numpy=\n",
              "array([[0, 0, 0, 0, 0, 0, 0, 0, 0, 0],\n",
              "       [3, 3, 3, 3, 3, 3, 3, 3, 3, 3],\n",
              "       [3, 3, 0, 1, 1, 0, 0, 0, 0, 0],\n",
              "       [0, 0, 0, 0, 0, 0, 0, 0, 0, 0],\n",
              "       [0, 0, 0, 0, 0, 0, 0, 0, 0, 0],\n",
              "       [0, 0, 0, 0, 2, 0, 0, 0, 0, 0],\n",
              "       [2, 0, 0, 0, 0, 0, 0, 0, 0, 0],\n",
              "       [1, 0, 0, 0, 0, 3, 0, 0, 0, 0],\n",
              "       [0, 0, 0, 2, 0, 0, 0, 0, 0, 0],\n",
              "       [0, 0, 3, 0, 2, 0, 1, 1, 0, 0]])>"
            ]
          },
          "metadata": {
            "tags": []
          },
          "execution_count": 71
        }
      ]
    },
    {
      "cell_type": "code",
      "metadata": {
        "id": "PSeiaB9q8vdU"
      },
      "source": [
        "pred = pred.numpy()"
      ],
      "execution_count": null,
      "outputs": []
    },
    {
      "cell_type": "code",
      "metadata": {
        "colab": {
          "base_uri": "https://localhost:8080/"
        },
        "id": "GdpABB_D0ZJO",
        "outputId": "75dcf34d-372a-4275-c02f-d61f26190176"
      },
      "source": [
        "y_test[:10,:10]"
      ],
      "execution_count": 42,
      "outputs": [
        {
          "output_type": "execute_result",
          "data": {
            "text/plain": [
              "array([[0, 0, 2, 0, 0, 0, 0, 0, 0, 0],\n",
              "       [3, 0, 0, 0, 0, 0, 0, 0, 0, 0],\n",
              "       [4, 4, 0, 1, 1, 0, 0, 0, 0, 0],\n",
              "       [0, 0, 0, 0, 0, 0, 0, 0, 0, 0],\n",
              "       [0, 0, 2, 0, 0, 0, 0, 0, 0, 0],\n",
              "       [0, 0, 0, 0, 2, 0, 0, 0, 0, 0],\n",
              "       [2, 0, 0, 0, 0, 0, 0, 0, 0, 0],\n",
              "       [1, 0, 0, 0, 0, 3, 0, 0, 0, 0],\n",
              "       [0, 0, 0, 2, 0, 0, 0, 0, 0, 0],\n",
              "       [0, 0, 3, 0, 2, 0, 1, 1, 0, 0]], dtype=int32)"
            ]
          },
          "metadata": {
            "tags": []
          },
          "execution_count": 42
        }
      ]
    },
    {
      "cell_type": "code",
      "metadata": {
        "id": "hFBa5HXZ0eb1"
      },
      "source": [
        "from sklearn.metrics import classification_report"
      ],
      "execution_count": 43,
      "outputs": []
    },
    {
      "cell_type": "code",
      "metadata": {
        "colab": {
          "base_uri": "https://localhost:8080/"
        },
        "id": "fCiLAsoV81F7",
        "outputId": "95017915-594e-43fb-ef3e-36384d7082a9"
      },
      "source": [
        "pred[64][62]"
      ],
      "execution_count": 75,
      "outputs": [
        {
          "output_type": "execute_result",
          "data": {
            "text/plain": [
              "0"
            ]
          },
          "metadata": {
            "tags": []
          },
          "execution_count": 75
        }
      ]
    },
    {
      "cell_type": "code",
      "metadata": {
        "id": "-0bASClr7UJ4"
      },
      "source": [
        "pred_label = []\n",
        "for i in range(len(right_test)):\n",
        "  pred_label += [idx2tag[pred[i][j]] for j in range(min(len(right_test[i]), 64))]"
      ],
      "execution_count": 76,
      "outputs": []
    },
    {
      "cell_type": "code",
      "metadata": {
        "colab": {
          "base_uri": "https://localhost:8080/"
        },
        "id": "Rouhje1v8-36",
        "outputId": "0f14c19e-5c43-44f3-a9fb-b55d699ffe61"
      },
      "source": [
        "print(pred_label[:100])\n",
        "print(len(pred_label))"
      ],
      "execution_count": 80,
      "outputs": [
        {
          "output_type": "stream",
          "text": [
            "['O', 'O', 'O', 'O', 'O', 'O', 'O', 'O', 'O', 'O', 'O', 'I-LOC', 'I-LOC', 'I-LOC', 'I-LOC', 'O', 'I-PER', 'I-PER', 'O', 'O', 'O', 'O', 'O', 'O', 'O', 'I-ORG', 'O', 'I-ORG', 'O', 'O', 'O', 'O', 'O', 'O', 'O', 'O', 'O', 'O', 'O', 'O', 'O', 'O', 'O', 'O', 'O', 'O', 'O', 'O', 'O', 'O', 'O', 'O', 'O', 'O', 'O', 'O', 'O', 'O', 'O', 'O', 'O', 'I-ORG', 'O', 'I-ORG', 'O', 'I-ORG', 'O', 'O', 'O', 'O', 'O', 'O', 'I-ORG', 'O', 'O', 'O', 'O', 'O', 'O', 'O', 'O', 'O', 'O', 'I-ORG', 'O', 'O', 'O', 'O', 'O', 'O', 'O', 'O', 'O', 'O', 'O', 'O', 'O', 'I-LOC', 'O', 'I-ORG']\n",
            "51175\n"
          ],
          "name": "stdout"
        }
      ]
    },
    {
      "cell_type": "code",
      "metadata": {
        "id": "RmbzHnRq9LeO"
      },
      "source": [
        "real_label = []\n",
        "for i in range(len(right_test)):\n",
        "  real_label += [idx2tag[y_test[i][j]] for j in range(min(len(right_test[i]), 64))]"
      ],
      "execution_count": 81,
      "outputs": []
    },
    {
      "cell_type": "code",
      "metadata": {
        "colab": {
          "base_uri": "https://localhost:8080/"
        },
        "id": "n7MBxWr49UWu",
        "outputId": "565af021-d1dd-4a69-d06c-7420108e8a99"
      },
      "source": [
        "print(real_label[:100])\n",
        "print(len(real_label))"
      ],
      "execution_count": 82,
      "outputs": [
        {
          "output_type": "stream",
          "text": [
            "['O', 'O', 'I-ORG', 'O', 'O', 'O', 'O', 'O', 'O', 'O', 'O', 'I-LOC', 'O', 'I-MISC', 'I-MISC', 'O', 'I-PER', 'I-PER', 'O', 'O', 'O', 'O', 'O', 'O', 'O', 'I-ORG', 'O', 'I-ORG', 'O', 'O', 'O', 'O', 'O', 'O', 'O', 'O', 'O', 'O', 'O', 'O', 'O', 'O', 'O', 'O', 'O', 'O', 'O', 'O', 'O', 'O', 'O', 'O', 'O', 'O', 'O', 'O', 'O', 'O', 'O', 'O', 'O', 'I-ORG', 'O', 'I-ORG', 'O', 'I-ORG', 'O', 'O', 'O', 'O', 'O', 'O', 'I-ORG', 'O', 'O', 'O', 'O', 'O', 'O', 'O', 'O', 'O', 'O', 'I-ORG', 'O', 'O', 'O', 'I-ORG', 'O', 'O', 'O', 'O', 'O', 'O', 'O', 'O', 'I-LOC', 'I-LOC', 'O', 'I-ORG']\n",
            "51175\n"
          ],
          "name": "stdout"
        }
      ]
    },
    {
      "cell_type": "code",
      "metadata": {
        "colab": {
          "base_uri": "https://localhost:8080/"
        },
        "id": "wCIwH1ZK3EIb",
        "outputId": "fa3d5bed-9fa8-42d6-94f9-7684ea070ecc"
      },
      "source": [
        "print(classification_report(pred_label, real_label))"
      ],
      "execution_count": 83,
      "outputs": [
        {
          "output_type": "stream",
          "text": [
            "/usr/local/lib/python3.6/dist-packages/sklearn/metrics/_classification.py:1272: UndefinedMetricWarning: Recall and F-score are ill-defined and being set to 0.0 in labels with no true samples. Use `zero_division` parameter to control this behavior.\n",
            "  _warn_prf(average, modifier, msg_start, len(result))\n"
          ],
          "name": "stderr"
        },
        {
          "output_type": "stream",
          "text": [
            "              precision    recall  f1-score   support\n",
            "\n",
            "      B-MISC       0.00      0.00      0.00         0\n",
            "       I-LOC       0.75      0.80      0.77      1947\n",
            "      I-MISC       0.64      0.87      0.74       931\n",
            "       I-ORG       0.62      0.83      0.71      1557\n",
            "       I-PER       0.59      0.94      0.73      1947\n",
            "           O       0.99      0.94      0.97     44793\n",
            "\n",
            "    accuracy                           0.93     51175\n",
            "   macro avg       0.60      0.73      0.65     51175\n",
            "weighted avg       0.95      0.93      0.94     51175\n",
            "\n"
          ],
          "name": "stdout"
        }
      ]
    },
    {
      "cell_type": "code",
      "metadata": {
        "colab": {
          "base_uri": "https://localhost:8080/"
        },
        "id": "ZPW5zk4E3TzX",
        "outputId": "b41f1b9a-5365-494c-9ce8-15f471f1dac0"
      },
      "source": [
        "np.array([[1,2,3], [3,4]])"
      ],
      "execution_count": 46,
      "outputs": [
        {
          "output_type": "execute_result",
          "data": {
            "text/plain": [
              "array([list([1, 2, 3]), list([3, 4])], dtype=object)"
            ]
          },
          "metadata": {
            "tags": []
          },
          "execution_count": 46
        }
      ]
    },
    {
      "cell_type": "code",
      "metadata": {
        "id": "9zrofD506DjK"
      },
      "source": [
        ""
      ],
      "execution_count": null,
      "outputs": []
    }
  ]
}