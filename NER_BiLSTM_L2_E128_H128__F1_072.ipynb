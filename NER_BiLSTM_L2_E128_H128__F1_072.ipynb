{
  "nbformat": 4,
  "nbformat_minor": 0,
  "metadata": {
    "colab": {
      "name": "NER_BiLSTM_L2_E16_H16__F1_070.ipynb",
      "provenance": [],
      "collapsed_sections": [],
      "machine_shape": "hm",
      "include_colab_link": true
    },
    "kernelspec": {
      "name": "python3",
      "display_name": "Python 3"
    }
  },
  "cells": [
    {
      "cell_type": "markdown",
      "metadata": {
        "id": "view-in-github",
        "colab_type": "text"
      },
      "source": [
        "<a href=\"https://colab.research.google.com/github/xhr0804/BotBuilder-Samples/blob/master/NER_BiLSTM_L2_E128_H128__F1_072.ipynb\" target=\"_parent\"><img src=\"https://colab.research.google.com/assets/colab-badge.svg\" alt=\"Open In Colab\"/></a>"
      ]
    },
    {
      "cell_type": "code",
      "metadata": {
        "colab": {
          "base_uri": "https://localhost:8080/"
        },
        "id": "xkTK-5lr_OPg",
        "outputId": "48edbf9e-53bf-48d8-e234-0946a16d3a27"
      },
      "source": [
        "!wget https://raw.githubusercontent.com/synalp/NER/master/corpus/CoNLL-2003/eng.train\n",
        "!wget https://raw.githubusercontent.com/synalp/NER/master/corpus/CoNLL-2003/eng.testa"
      ],
      "execution_count": 1,
      "outputs": [
        {
          "output_type": "stream",
          "text": [
            "--2020-12-05 13:34:13--  https://raw.githubusercontent.com/synalp/NER/master/corpus/CoNLL-2003/eng.train\n",
            "Resolving raw.githubusercontent.com (raw.githubusercontent.com)... 151.101.0.133, 151.101.64.133, 151.101.128.133, ...\n",
            "Connecting to raw.githubusercontent.com (raw.githubusercontent.com)|151.101.0.133|:443... connected.\n",
            "HTTP request sent, awaiting response... 200 OK\n",
            "Length: 3281528 (3.1M) [text/plain]\n",
            "Saving to: ‘eng.train.14’\n",
            "\n",
            "\reng.train.14          0%[                    ]       0  --.-KB/s               \reng.train.14        100%[===================>]   3.13M  --.-KB/s    in 0.06s   \n",
            "\n",
            "2020-12-05 13:34:13 (50.9 MB/s) - ‘eng.train.14’ saved [3281528/3281528]\n",
            "\n",
            "--2020-12-05 13:34:13--  https://raw.githubusercontent.com/synalp/NER/master/corpus/CoNLL-2003/eng.testa\n",
            "Resolving raw.githubusercontent.com (raw.githubusercontent.com)... 151.101.0.133, 151.101.64.133, 151.101.128.133, ...\n",
            "Connecting to raw.githubusercontent.com (raw.githubusercontent.com)|151.101.0.133|:443... connected.\n",
            "HTTP request sent, awaiting response... 200 OK\n",
            "Length: 827012 (808K) [text/plain]\n",
            "Saving to: ‘eng.testa.14’\n",
            "\n",
            "eng.testa.14        100%[===================>] 807.63K  --.-KB/s    in 0.04s   \n",
            "\n",
            "2020-12-05 13:34:13 (19.3 MB/s) - ‘eng.testa.14’ saved [827012/827012]\n",
            "\n"
          ],
          "name": "stdout"
        }
      ]
    },
    {
      "cell_type": "code",
      "metadata": {
        "colab": {
          "base_uri": "https://localhost:8080/"
        },
        "id": "sxMsyZaFhvwt",
        "outputId": "0392f6a7-a922-4366-f903-c25c04a22415"
      },
      "source": [
        "import tensorflow as tf\n",
        "from tensorflow import keras\n",
        "\n",
        "import numpy as np\n",
        "import time\n",
        "import matplotlib.pyplot as plt\n",
        "\n",
        "print(tf.__version__)\n",
        "# print(\"Num GPUs Available: \", len(tf.config.experimental.list_physical_devices('GPU')))"
      ],
      "execution_count": 2,
      "outputs": [
        {
          "output_type": "stream",
          "text": [
            "2.3.0\n"
          ],
          "name": "stdout"
        }
      ]
    },
    {
      "cell_type": "code",
      "metadata": {
        "id": "k3fD4VEC5_z9"
      },
      "source": [
        "def countWord(file):\n",
        "  word_count = {}\n",
        "  tag_count = {}\n",
        "  for line in open(file):\n",
        "    if '-DOCSTART-' in line or not len(line.strip('\\n')):\n",
        "      continue\n",
        "    splitted = line.split()\n",
        "    if splitted[0] in word_count:\n",
        "      word_count[splitted[0]] += 1\n",
        "    else:\n",
        "      word_count[splitted[0]] = 1\n",
        "    if splitted[-1] in tag_count:\n",
        "      tag_count[splitted[-1]] += 1\n",
        "    else:\n",
        "      tag_count[splitted[-1]] = 1\n",
        "  return word_count, tag_count"
      ],
      "execution_count": 3,
      "outputs": []
    },
    {
      "cell_type": "code",
      "metadata": {
        "id": "OfSP-jhLIafy"
      },
      "source": [
        "word_count, tag_count = countWord('eng.train')\n",
        "sorted_word_count = sorted(word_count.items(), key=lambda x: x[1], reverse=True)\n",
        "word2idx = {kv[0]: index+2 for index, kv in enumerate(sorted_word_count)}\n",
        "word2idx[\"<PAD>\"] = 0\n",
        "word2idx[\"<UNK>\"] = 1\n",
        "idx2word = {idx:word for word, idx in word2idx.items()}\n",
        "sorted_tag_count = sorted(tag_count.items(), key=lambda x: x[1], reverse=True)\n",
        "tag2idx = {kv[0]: index for index, kv in enumerate(sorted_tag_count)}\n",
        "idx2tag = {idx:tag for tag, idx in tag2idx.items()}"
      ],
      "execution_count": 4,
      "outputs": []
    },
    {
      "cell_type": "code",
      "metadata": {
        "id": "pmIJJ0as_Q2N"
      },
      "source": [
        "def parse(file):\n",
        "  left, right = [], []\n",
        "  for line in open(file):\n",
        "    line = line.strip()\n",
        "    if '-DOCSTART-' in line:\n",
        "      this_left, this_right = [], []\n",
        "    elif not len(line):\n",
        "      if len(this_left) > 0:\n",
        "        left.append(this_left)\n",
        "        right.append(this_right)\n",
        "      this_left, this_right = [], []\n",
        "    else:\n",
        "      splitted = line.split()\n",
        "      this_left.append(splitted[0])\n",
        "      this_right.append(splitted[-1])\n",
        "  return left, right"
      ],
      "execution_count": 5,
      "outputs": []
    },
    {
      "cell_type": "code",
      "metadata": {
        "id": "Cjz3WN_Z_XPC"
      },
      "source": [
        "left_train, right_train = parse('eng.train')\n",
        "left_test, right_test = parse('eng.testa')"
      ],
      "execution_count": 6,
      "outputs": []
    },
    {
      "cell_type": "code",
      "metadata": {
        "id": "Dn85jQMozhgs"
      },
      "source": [
        "def convertWord2Idx(words, map, threshold):\n",
        "  ret = []\n",
        "  for word in words:\n",
        "    if word in map and map[word] < threshold:\n",
        "      ret.append(map[word])\n",
        "    else:\n",
        "      ret.append(map[\"<UNK>\"])\n",
        "  return np.array(ret, dtype=np.int32)"
      ],
      "execution_count": 7,
      "outputs": []
    },
    {
      "cell_type": "code",
      "metadata": {
        "id": "w0nfVT8OhF-N"
      },
      "source": [
        "x_train = np.array([convertWord2Idx(words, word2idx, 10000) for words in left_train])\n",
        "y_train = np.array([convertWord2Idx(words, tag2idx, 10000) for words in right_train])\n",
        "x_test = np.array([convertWord2Idx(words, word2idx, 10000) for words in left_test])\n",
        "y_test = np.array([convertWord2Idx(words, tag2idx, 10000) for words in right_test])"
      ],
      "execution_count": 8,
      "outputs": []
    },
    {
      "cell_type": "code",
      "metadata": {
        "id": "wZhlumvCp25y"
      },
      "source": [
        "x_train = keras.preprocessing.sequence.pad_sequences(x_train,\n",
        "                                                     padding='post',\n",
        "                                                     value = word2idx[\"<PAD>\"],\n",
        "                                                     maxlen = 64)"
      ],
      "execution_count": 9,
      "outputs": []
    },
    {
      "cell_type": "code",
      "metadata": {
        "id": "3qOaqPPE5cfN"
      },
      "source": [
        "y_train = keras.preprocessing.sequence.pad_sequences(y_train,\n",
        "                                                     padding='post',\n",
        "                                                     value = 0,\n",
        "                                                     maxlen = 64)"
      ],
      "execution_count": 10,
      "outputs": []
    },
    {
      "cell_type": "code",
      "metadata": {
        "id": "-2OSSnu_y0Go"
      },
      "source": [
        "model = keras.Sequential([\n",
        "  keras.layers.Embedding(10000, 128, mask_zero=True),\n",
        "  keras.layers.Bidirectional(keras.layers.LSTM(64, return_sequences=True)),\n",
        "  keras.layers.Dropout(0.2),\n",
        "  keras.layers.Dense(128, activation='relu'),\n",
        "  keras.layers.Dense(8)\n",
        "])"
      ],
      "execution_count": 11,
      "outputs": []
    },
    {
      "cell_type": "code",
      "metadata": {
        "colab": {
          "base_uri": "https://localhost:8080/"
        },
        "id": "LXVridkFx3zd",
        "outputId": "36b400dc-b4cf-4098-c884-2117cdb21785"
      },
      "source": [
        "model.summary()"
      ],
      "execution_count": 12,
      "outputs": [
        {
          "output_type": "stream",
          "text": [
            "Model: \"sequential\"\n",
            "_________________________________________________________________\n",
            "Layer (type)                 Output Shape              Param #   \n",
            "=================================================================\n",
            "embedding (Embedding)        (None, None, 128)         1280000   \n",
            "_________________________________________________________________\n",
            "bidirectional (Bidirectional (None, None, 128)         98816     \n",
            "_________________________________________________________________\n",
            "dropout (Dropout)            (None, None, 128)         0         \n",
            "_________________________________________________________________\n",
            "dense (Dense)                (None, None, 128)         16512     \n",
            "_________________________________________________________________\n",
            "dense_1 (Dense)              (None, None, 8)           1032      \n",
            "=================================================================\n",
            "Total params: 1,396,360\n",
            "Trainable params: 1,396,360\n",
            "Non-trainable params: 0\n",
            "_________________________________________________________________\n"
          ],
          "name": "stdout"
        }
      ]
    },
    {
      "cell_type": "code",
      "metadata": {
        "id": "wsEXnwiSjMNt"
      },
      "source": [
        "earlystopping = tf.keras.callbacks.EarlyStopping(monitor='val_loss', patience=5)"
      ],
      "execution_count": 13,
      "outputs": []
    },
    {
      "cell_type": "code",
      "metadata": {
        "id": "Tn8QAH-ajgY6"
      },
      "source": [
        "model.compile(optimizer='adam', \n",
        "              loss = tf.keras.losses.SparseCategoricalCrossentropy(from_logits=True), #if the model output doesn't have softmax, should set from_logits=True\n",
        "              metrics=['accuracy'])"
      ],
      "execution_count": 14,
      "outputs": []
    },
    {
      "cell_type": "code",
      "metadata": {
        "colab": {
          "base_uri": "https://localhost:8080/"
        },
        "id": "lKdHDkb1x_4u",
        "outputId": "2e9cfab7-a416-40de-da3a-16fe848a9367"
      },
      "source": [
        "model.fit(\n",
        "    x = x_train[:12000], # batchsize * sentence_len(word index)\n",
        "    y = y_train[:12000], # batchsize * sentence_len(tag index)\n",
        "    batch_size = 32,\n",
        "    epochs = 40,\n",
        "    validation_data = (x_train[12000:], y_train[12000:]),\n",
        "    callbacks = [earlystopping]\n",
        ")"
      ],
      "execution_count": 15,
      "outputs": [
        {
          "output_type": "stream",
          "text": [
            "Epoch 1/40\n",
            "375/375 [==============================] - 25s 66ms/step - loss: 0.1010 - accuracy: 0.8762 - val_loss: 0.0459 - val_accuracy: 0.9459\n",
            "Epoch 2/40\n",
            "375/375 [==============================] - 23s 61ms/step - loss: 0.0238 - accuracy: 0.9682 - val_loss: 0.0316 - val_accuracy: 0.9633\n",
            "Epoch 3/40\n",
            "375/375 [==============================] - 23s 61ms/step - loss: 0.0138 - accuracy: 0.9815 - val_loss: 0.0305 - val_accuracy: 0.9650\n",
            "Epoch 4/40\n",
            "375/375 [==============================] - 23s 60ms/step - loss: 0.0094 - accuracy: 0.9873 - val_loss: 0.0324 - val_accuracy: 0.9654\n",
            "Epoch 5/40\n",
            "375/375 [==============================] - 23s 61ms/step - loss: 0.0068 - accuracy: 0.9905 - val_loss: 0.0355 - val_accuracy: 0.9649\n",
            "Epoch 6/40\n",
            "375/375 [==============================] - 23s 61ms/step - loss: 0.0052 - accuracy: 0.9930 - val_loss: 0.0389 - val_accuracy: 0.9642\n",
            "Epoch 7/40\n",
            "375/375 [==============================] - 23s 60ms/step - loss: 0.0042 - accuracy: 0.9941 - val_loss: 0.0397 - val_accuracy: 0.9624\n",
            "Epoch 8/40\n",
            "375/375 [==============================] - 23s 61ms/step - loss: 0.0035 - accuracy: 0.9951 - val_loss: 0.0424 - val_accuracy: 0.9653\n"
          ],
          "name": "stdout"
        },
        {
          "output_type": "execute_result",
          "data": {
            "text/plain": [
              "<tensorflow.python.keras.callbacks.History at 0x7f48b31d7cf8>"
            ]
          },
          "metadata": {
            "tags": []
          },
          "execution_count": 15
        }
      ]
    },
    {
      "cell_type": "code",
      "metadata": {
        "id": "0qjVSUvyWkx_"
      },
      "source": [
        "def decode(pred_tag_index, idx2tag, sentence):\n",
        "  ret = [sentence[i] + \"(\" + idx2tag[pred_tag_index[i]] + \")\" for i in range(len(sentence))]\n",
        "  print(\" \".join(ret))"
      ],
      "execution_count": 16,
      "outputs": []
    },
    {
      "cell_type": "code",
      "metadata": {
        "id": "bys5_6m90Bq9"
      },
      "source": [
        "x_test = keras.preprocessing.sequence.pad_sequences(x_test,\n",
        "                                                     padding='post',\n",
        "                                                     value = word2idx[\"<PAD>\"],\n",
        "                                                     maxlen = 64)"
      ],
      "execution_count": 17,
      "outputs": []
    },
    {
      "cell_type": "code",
      "metadata": {
        "id": "hXyYaT5r0Bq9"
      },
      "source": [
        "y_test = keras.preprocessing.sequence.pad_sequences(y_test,\n",
        "                                                     padding='post',\n",
        "                                                     value = 0,\n",
        "                                                     maxlen = 64)"
      ],
      "execution_count": 18,
      "outputs": []
    },
    {
      "cell_type": "code",
      "metadata": {
        "id": "FDL-LjE70SXC"
      },
      "source": [
        "x_pred = model.predict(x_test)"
      ],
      "execution_count": 19,
      "outputs": []
    },
    {
      "cell_type": "code",
      "metadata": {
        "id": "AIpPzhCM0XLf"
      },
      "source": [
        "pred = tf.argmax(x_pred, axis=2)\n",
        "pred = pred.numpy()"
      ],
      "execution_count": 20,
      "outputs": []
    },
    {
      "cell_type": "code",
      "metadata": {
        "id": "hFBa5HXZ0eb1"
      },
      "source": [
        "from sklearn.metrics import classification_report"
      ],
      "execution_count": 21,
      "outputs": []
    },
    {
      "cell_type": "code",
      "metadata": {
        "id": "-0bASClr7UJ4"
      },
      "source": [
        "pred_label = []\n",
        "for i in range(len(right_test)):\n",
        "  pred_label += [idx2tag[pred[i][j]] for j in range(min(len(right_test[i]), 64))]\n",
        "real_label = []\n",
        "for i in range(len(right_test)):\n",
        "  real_label += [idx2tag[y_test[i][j]] for j in range(min(len(right_test[i]), 64))]"
      ],
      "execution_count": 22,
      "outputs": []
    },
    {
      "cell_type": "code",
      "metadata": {
        "colab": {
          "base_uri": "https://localhost:8080/"
        },
        "id": "wCIwH1ZK3EIb",
        "outputId": "5a336266-1662-4543-91a0-eef5123b1740"
      },
      "source": [
        "print(classification_report(pred_label, real_label))"
      ],
      "execution_count": 23,
      "outputs": [
        {
          "output_type": "stream",
          "text": [
            "/usr/local/lib/python3.6/dist-packages/sklearn/metrics/_classification.py:1272: UndefinedMetricWarning: Recall and F-score are ill-defined and being set to 0.0 in labels with no true samples. Use `zero_division` parameter to control this behavior.\n",
            "  _warn_prf(average, modifier, msg_start, len(result))\n"
          ],
          "name": "stderr"
        },
        {
          "output_type": "stream",
          "text": [
            "              precision    recall  f1-score   support\n",
            "\n",
            "      B-MISC       0.00      0.00      0.00         0\n",
            "       I-LOC       0.82      0.93      0.87      1839\n",
            "      I-MISC       0.77      0.84      0.80      1171\n",
            "       I-ORG       0.76      0.83      0.79      1931\n",
            "       I-PER       0.84      0.91      0.88      2859\n",
            "           O       0.99      0.97      0.98     43375\n",
            "\n",
            "    accuracy                           0.96     51175\n",
            "   macro avg       0.70      0.75      0.72     51175\n",
            "weighted avg       0.96      0.96      0.96     51175\n",
            "\n"
          ],
          "name": "stdout"
        }
      ]
    },
    {
      "cell_type": "code",
      "metadata": {
        "id": "9zrofD506DjK"
      },
      "source": [
        ""
      ],
      "execution_count": 23,
      "outputs": []
    }
  ]
}