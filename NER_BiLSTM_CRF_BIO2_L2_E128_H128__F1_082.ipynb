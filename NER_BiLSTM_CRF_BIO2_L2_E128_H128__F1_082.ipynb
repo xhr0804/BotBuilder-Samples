{
  "nbformat": 4,
  "nbformat_minor": 0,
  "metadata": {
    "colab": {
      "name": "NER_BiLSTM_CRF_L2_E16_H16__F1_070.ipynb",
      "provenance": [],
      "collapsed_sections": [],
      "machine_shape": "hm",
      "include_colab_link": true
    },
    "kernelspec": {
      "name": "python3",
      "display_name": "Python 3"
    }
  },
  "cells": [
    {
      "cell_type": "markdown",
      "metadata": {
        "id": "view-in-github",
        "colab_type": "text"
      },
      "source": [
        "<a href=\"https://colab.research.google.com/github/xhr0804/BotBuilder-Samples/blob/master/NER_BiLSTM_CRF_BIO2_L2_E128_H128__F1_082.ipynb\" target=\"_parent\"><img src=\"https://colab.research.google.com/assets/colab-badge.svg\" alt=\"Open In Colab\"/></a>"
      ]
    },
    {
      "cell_type": "code",
      "metadata": {
        "colab": {
          "base_uri": "https://localhost:8080/"
        },
        "id": "xkTK-5lr_OPg",
        "outputId": "8e645c05-eb45-4793-b69a-2a55fdd3a0b3"
      },
      "source": [
        "!wget https://raw.githubusercontent.com/synalp/NER/master/corpus/CoNLL-2003/eng.train\n",
        "!wget https://raw.githubusercontent.com/synalp/NER/master/corpus/CoNLL-2003/eng.testa"
      ],
      "execution_count": 1,
      "outputs": [
        {
          "output_type": "stream",
          "text": [
            "--2020-12-07 10:37:11--  https://raw.githubusercontent.com/synalp/NER/master/corpus/CoNLL-2003/eng.train\n",
            "Resolving raw.githubusercontent.com (raw.githubusercontent.com)... 151.101.0.133, 151.101.64.133, 151.101.128.133, ...\n",
            "Connecting to raw.githubusercontent.com (raw.githubusercontent.com)|151.101.0.133|:443... connected.\n",
            "HTTP request sent, awaiting response... 200 OK\n",
            "Length: 3281528 (3.1M) [text/plain]\n",
            "Saving to: ‘eng.train.4’\n",
            "\n",
            "eng.train.4         100%[===================>]   3.13M  --.-KB/s    in 0.1s    \n",
            "\n",
            "2020-12-07 10:37:12 (22.8 MB/s) - ‘eng.train.4’ saved [3281528/3281528]\n",
            "\n",
            "--2020-12-07 10:37:12--  https://raw.githubusercontent.com/synalp/NER/master/corpus/CoNLL-2003/eng.testa\n",
            "Resolving raw.githubusercontent.com (raw.githubusercontent.com)... 151.101.0.133, 151.101.64.133, 151.101.128.133, ...\n",
            "Connecting to raw.githubusercontent.com (raw.githubusercontent.com)|151.101.0.133|:443... connected.\n",
            "HTTP request sent, awaiting response... 200 OK\n",
            "Length: 827012 (808K) [text/plain]\n",
            "Saving to: ‘eng.testa.4’\n",
            "\n",
            "eng.testa.4         100%[===================>] 807.63K  --.-KB/s    in 0.06s   \n",
            "\n",
            "2020-12-07 10:37:12 (13.8 MB/s) - ‘eng.testa.4’ saved [827012/827012]\n",
            "\n"
          ],
          "name": "stdout"
        }
      ]
    },
    {
      "cell_type": "code",
      "metadata": {
        "colab": {
          "base_uri": "https://localhost:8080/"
        },
        "id": "sxMsyZaFhvwt",
        "outputId": "a3863204-9248-4cfe-ff68-d0e9f04bc414"
      },
      "source": [
        "import tensorflow as tf\n",
        "from tensorflow import keras\n",
        "\n",
        "import numpy as np\n",
        "import time\n",
        "import matplotlib.pyplot as plt\n",
        "\n",
        "print(tf.__version__)\n",
        "# print(\"Num GPUs Available: \", len(tf.config.experimental.list_physical_devices('GPU')))"
      ],
      "execution_count": 2,
      "outputs": [
        {
          "output_type": "stream",
          "text": [
            "2.3.0\n"
          ],
          "name": "stdout"
        }
      ]
    },
    {
      "cell_type": "code",
      "metadata": {
        "id": "pmIJJ0as_Q2N"
      },
      "source": [
        "def parse(file):\n",
        "  left, right = [], []\n",
        "  for line in open(file):\n",
        "    line = line.strip()\n",
        "    if '-DOCSTART-' in line:\n",
        "      this_left, this_right = [], []\n",
        "    elif not len(line):\n",
        "      if len(this_left) > 0:\n",
        "        left.append(this_left)\n",
        "        right.append(this_right)\n",
        "      this_left, this_right = [], []\n",
        "    else:\n",
        "      splitted = line.split()\n",
        "      this_left.append(splitted[0])\n",
        "      this_right.append(splitted[-1])\n",
        "  \n",
        "  new_right = []\n",
        "  for sentence in right:\n",
        "    cur = []\n",
        "    for i in range(len(sentence)):\n",
        "      if \"B-\" in sentence[i] or sentence[i] == \"O\":\n",
        "        cur.append(sentence[i])\n",
        "      else: #\"I-\" in sentence[i]:\n",
        "        word = sentence[i]\n",
        "        if i == 0 or sentence[i] != sentence[i-1]:\n",
        "          cur.append(word.replace(\"I-\", \"B-\"))\n",
        "        else:\n",
        "          cur.append(word)\n",
        "    new_right.append(cur)\n",
        "  return left, new_right"
      ],
      "execution_count": 3,
      "outputs": []
    },
    {
      "cell_type": "code",
      "metadata": {
        "id": "Cjz3WN_Z_XPC"
      },
      "source": [
        "left_train, right_train = parse('eng.train')\n",
        "left_test, right_test = parse('eng.testa')"
      ],
      "execution_count": 4,
      "outputs": []
    },
    {
      "cell_type": "code",
      "metadata": {
        "id": "k3fD4VEC5_z9"
      },
      "source": [
        "def countWord(sentences):\n",
        "  word_count = {}\n",
        "  for sentence in sentences:\n",
        "    for word in sentence:\n",
        "      if word in word_count:\n",
        "        word_count[word] += 1\n",
        "      else:\n",
        "        word_count[word] = 1\n",
        "  return word_count"
      ],
      "execution_count": 5,
      "outputs": []
    },
    {
      "cell_type": "code",
      "metadata": {
        "id": "OfSP-jhLIafy"
      },
      "source": [
        "word_count = countWord(left_train)\n",
        "tag_count = countWord(right_train)\n",
        "sorted_word_count = sorted(word_count.items(), key=lambda x: x[1], reverse=True)\n",
        "word2idx = {kv[0]: index+2 for index, kv in enumerate(sorted_word_count)}\n",
        "word2idx[\"<PAD>\"] = 0\n",
        "word2idx[\"<UNK>\"] = 1\n",
        "idx2word = {idx:word for word, idx in word2idx.items()}\n",
        "sorted_tag_count = sorted(tag_count.items(), key=lambda x: x[1], reverse=True)\n",
        "tag2idx = {kv[0]: index for index, kv in enumerate(sorted_tag_count)}\n",
        "idx2tag = {idx:tag for tag, idx in tag2idx.items()}"
      ],
      "execution_count": 6,
      "outputs": []
    },
    {
      "cell_type": "code",
      "metadata": {
        "colab": {
          "base_uri": "https://localhost:8080/"
        },
        "id": "ABcJo5h1vf3W",
        "outputId": "bf64e677-f36c-4e0e-dff0-7804994b04b4"
      },
      "source": [
        "tag2idx.items()"
      ],
      "execution_count": 7,
      "outputs": [
        {
          "output_type": "execute_result",
          "data": {
            "text/plain": [
              "dict_items([('O', 0), ('B-LOC', 1), ('B-PER', 2), ('B-ORG', 3), ('I-PER', 4), ('I-ORG', 5), ('B-MISC', 6), ('I-LOC', 7), ('I-MISC', 8)])"
            ]
          },
          "metadata": {
            "tags": []
          },
          "execution_count": 7
        }
      ]
    },
    {
      "cell_type": "code",
      "metadata": {
        "colab": {
          "base_uri": "https://localhost:8080/"
        },
        "id": "L0xCmqAEhAEg",
        "outputId": "9642860a-9d95-45c6-8026-80e769d7dae4"
      },
      "source": [
        "print(left_train[0:5])\n",
        "print(right_train[0:5])"
      ],
      "execution_count": 8,
      "outputs": [
        {
          "output_type": "stream",
          "text": [
            "[['EU', 'rejects', 'German', 'call', 'to', 'boycott', 'British', 'lamb', '.'], ['Peter', 'Blackburn'], ['BRUSSELS', '1996-08-22'], ['The', 'European', 'Commission', 'said', 'on', 'Thursday', 'it', 'disagreed', 'with', 'German', 'advice', 'to', 'consumers', 'to', 'shun', 'British', 'lamb', 'until', 'scientists', 'determine', 'whether', 'mad', 'cow', 'disease', 'can', 'be', 'transmitted', 'to', 'sheep', '.'], ['Germany', \"'s\", 'representative', 'to', 'the', 'European', 'Union', \"'s\", 'veterinary', 'committee', 'Werner', 'Zwingmann', 'said', 'on', 'Wednesday', 'consumers', 'should', 'buy', 'sheepmeat', 'from', 'countries', 'other', 'than', 'Britain', 'until', 'the', 'scientific', 'advice', 'was', 'clearer', '.']]\n",
            "[['B-ORG', 'O', 'B-MISC', 'O', 'O', 'O', 'B-MISC', 'O', 'O'], ['B-PER', 'I-PER'], ['B-LOC', 'O'], ['O', 'B-ORG', 'I-ORG', 'O', 'O', 'O', 'O', 'O', 'O', 'B-MISC', 'O', 'O', 'O', 'O', 'O', 'B-MISC', 'O', 'O', 'O', 'O', 'O', 'O', 'O', 'O', 'O', 'O', 'O', 'O', 'O', 'O'], ['B-LOC', 'O', 'O', 'O', 'O', 'B-ORG', 'I-ORG', 'O', 'O', 'O', 'B-PER', 'I-PER', 'O', 'O', 'O', 'O', 'O', 'O', 'O', 'O', 'O', 'O', 'O', 'B-LOC', 'O', 'O', 'O', 'O', 'O', 'O', 'O']]\n"
          ],
          "name": "stdout"
        }
      ]
    },
    {
      "cell_type": "code",
      "metadata": {
        "id": "Dn85jQMozhgs"
      },
      "source": [
        "def convertWord2Idx(words, map, threshold):\n",
        "  ret = []\n",
        "  for word in words:\n",
        "    if word in map and map[word] < threshold:\n",
        "      ret.append(map[word])\n",
        "    else:\n",
        "      ret.append(map[\"<UNK>\"])\n",
        "  return np.array(ret, dtype=np.int32)"
      ],
      "execution_count": 9,
      "outputs": []
    },
    {
      "cell_type": "code",
      "metadata": {
        "id": "w0nfVT8OhF-N"
      },
      "source": [
        "x_train = np.array([convertWord2Idx(words, word2idx, 10000) for words in left_train])\n",
        "y_train = np.array([convertWord2Idx(words, tag2idx, 10000) for words in right_train])\n",
        "x_test = np.array([convertWord2Idx(words, word2idx, 10000) for words in left_test])\n",
        "y_test = np.array([convertWord2Idx(words, tag2idx, 10000) for words in right_test])"
      ],
      "execution_count": 10,
      "outputs": []
    },
    {
      "cell_type": "code",
      "metadata": {
        "id": "wZhlumvCp25y"
      },
      "source": [
        "x_train = keras.preprocessing.sequence.pad_sequences(x_train,\n",
        "                                                     padding='post',\n",
        "                                                     value = word2idx[\"<PAD>\"],\n",
        "                                                     maxlen = 64)\n",
        "y_train = keras.preprocessing.sequence.pad_sequences(y_train,\n",
        "                                                     padding='post',\n",
        "                                                     value = 0,\n",
        "                                                     maxlen = 64)"
      ],
      "execution_count": 11,
      "outputs": []
    },
    {
      "cell_type": "code",
      "metadata": {
        "id": "JT9Q7W8qK1wd"
      },
      "source": [
        "# https://www.tensorflow.org/addons/api_docs/python/tfa/text/crf_log_likelihood\n",
        "# https://www.tensorflow.org/addons\n",
        "import tensorflow_addons as tfa"
      ],
      "execution_count": 12,
      "outputs": []
    },
    {
      "cell_type": "code",
      "metadata": {
        "id": "-2OSSnu_y0Go"
      },
      "source": [
        "model = keras.Sequential([\n",
        "  keras.layers.Embedding(10000, 128, mask_zero=True),\n",
        "  keras.layers.Bidirectional(keras.layers.LSTM(64, return_sequences=True)),\n",
        "  keras.layers.Dropout(0.5),\n",
        "  keras.layers.Dense(128, activation='relu'),\n",
        "  keras.layers.Dense(len(tag2idx.items()))\n",
        "])"
      ],
      "execution_count": 13,
      "outputs": []
    },
    {
      "cell_type": "code",
      "metadata": {
        "colab": {
          "base_uri": "https://localhost:8080/"
        },
        "id": "DBIjYJuzL6Hl",
        "outputId": "3898c0ee-2727-44dd-90ca-67a9c34c65ec"
      },
      "source": [
        "model.add_weight(name=\"transitions\", \n",
        "                 shape=(len(tag2idx.items()), len(tag2idx.items())), \n",
        "                 dtype=tf.float32, \n",
        "                 initializer=tf.keras.initializers.GlorotUniform())"
      ],
      "execution_count": 14,
      "outputs": [
        {
          "output_type": "execute_result",
          "data": {
            "text/plain": [
              "<tf.Variable 'transitions:0' shape=(9, 9) dtype=float32, numpy=\n",
              "array([[-0.27811137,  0.3763078 , -0.4913741 ,  0.46707165, -0.574925  ,\n",
              "        -0.44215795, -0.45741367,  0.4145292 , -0.54109406],\n",
              "       [-0.31678775,  0.05242509, -0.53458357, -0.29504782, -0.41492012,\n",
              "        -0.03981555,  0.19980872, -0.45985273, -0.21395871],\n",
              "       [-0.21069184,  0.22937936,  0.28624243, -0.0548476 , -0.5075646 ,\n",
              "        -0.27818516,  0.5640502 ,  0.36302292,  0.25202787],\n",
              "       [-0.0132913 ,  0.05199283,  0.5367137 , -0.5280339 , -0.42855406,\n",
              "         0.4209835 ,  0.25930685,  0.49346137, -0.20463574],\n",
              "       [-0.1948519 , -0.0402599 , -0.43723404,  0.39831984, -0.02660412,\n",
              "        -0.2753709 ,  0.5366422 ,  0.52082455,  0.30017048],\n",
              "       [-0.43503082, -0.5149741 , -0.30065918,  0.47053993,  0.3983739 ,\n",
              "        -0.05076903, -0.36545494, -0.01554215, -0.07540649],\n",
              "       [-0.36876848,  0.16070247, -0.04943848,  0.46042192, -0.45872757,\n",
              "         0.04581881,  0.38788158,  0.1953308 , -0.19240502],\n",
              "       [ 0.29299408, -0.27908114,  0.00790089, -0.3232323 ,  0.08885276,\n",
              "         0.00849319,  0.42120016,  0.39842886, -0.2321091 ],\n",
              "       [-0.24307588, -0.19550794,  0.23954856, -0.4168796 , -0.0881367 ,\n",
              "        -0.23473561,  0.39223868,  0.03283018, -0.18480724]],\n",
              "      dtype=float32)>"
            ]
          },
          "metadata": {
            "tags": []
          },
          "execution_count": 14
        }
      ]
    },
    {
      "cell_type": "code",
      "metadata": {
        "colab": {
          "base_uri": "https://localhost:8080/"
        },
        "id": "LXVridkFx3zd",
        "outputId": "bb96c6b8-d0d0-407b-ec9a-d3c039cc819b"
      },
      "source": [
        "model.summary()"
      ],
      "execution_count": 15,
      "outputs": [
        {
          "output_type": "stream",
          "text": [
            "Model: \"sequential\"\n",
            "_________________________________________________________________\n",
            "Layer (type)                 Output Shape              Param #   \n",
            "=================================================================\n",
            "embedding (Embedding)        (None, None, 128)         1280000   \n",
            "_________________________________________________________________\n",
            "bidirectional (Bidirectional (None, None, 128)         98816     \n",
            "_________________________________________________________________\n",
            "dropout (Dropout)            (None, None, 128)         0         \n",
            "_________________________________________________________________\n",
            "dense (Dense)                (None, None, 128)         16512     \n",
            "_________________________________________________________________\n",
            "dense_1 (Dense)              (None, None, 9)           1161      \n",
            "=================================================================\n",
            "Total params: 1,396,570\n",
            "Trainable params: 1,396,570\n",
            "Non-trainable params: 0\n",
            "_________________________________________________________________\n"
          ],
          "name": "stdout"
        }
      ]
    },
    {
      "cell_type": "code",
      "metadata": {
        "id": "qt-O3mCYWlG_"
      },
      "source": [
        "class CustomLoss(tf.keras.losses.Loss):\n",
        "    def __init__(\n",
        "        self,\n",
        "        transition_params = None,\n",
        "        reduction: str = tf.keras.losses.Reduction.SUM_OVER_BATCH_SIZE,\n",
        "        name: str = \"crf_loss\",\n",
        "    ):\n",
        "        super().__init__(reduction=reduction, name=name)\n",
        "        self.transition_params = transition_params\n",
        "    def call(self, y_true, y_pred):\n",
        "      seqlen = tf.math.count_nonzero(y_pred._keras_mask, axis=1)\n",
        "      loglikelihood, _ = tfa.text.crf_log_likelihood(y_pred, y_true, seqlen, self.transition_params)\n",
        "      return tf.reduce_mean(-loglikelihood)"
      ],
      "execution_count": 16,
      "outputs": []
    },
    {
      "cell_type": "code",
      "metadata": {
        "id": "wsEXnwiSjMNt"
      },
      "source": [
        "earlystopping = tf.keras.callbacks.EarlyStopping(monitor='val_loss', patience=5)"
      ],
      "execution_count": 17,
      "outputs": []
    },
    {
      "cell_type": "code",
      "metadata": {
        "id": "Tn8QAH-ajgY6"
      },
      "source": [
        "model.compile(optimizer='adam', \n",
        "              loss = CustomLoss(model.trainable_variables[-1]), #if the model output doesn't have softmax, should set from_logits=True\n",
        "              metrics=['accuracy'])"
      ],
      "execution_count": 18,
      "outputs": []
    },
    {
      "cell_type": "code",
      "metadata": {
        "colab": {
          "base_uri": "https://localhost:8080/"
        },
        "id": "lKdHDkb1x_4u",
        "outputId": "0fcff3df-b407-4f13-8bfb-729d3d7ce160"
      },
      "source": [
        "# m.layers[0].get_weights() get layers variable\n",
        "model.fit(\n",
        "    x = x_train[:12000], # batchsize * sentence_len(word index)\n",
        "    y = y_train[:12000], # batchsize * sentence_len(tag index)\n",
        "    batch_size = 64,\n",
        "    epochs = 40,\n",
        "    validation_data = (x_train[12000:], y_train[12000:]),\n",
        "    callbacks = [earlystopping]\n",
        ")"
      ],
      "execution_count": 19,
      "outputs": [
        {
          "output_type": "stream",
          "text": [
            "Epoch 1/40\n",
            "188/188 [==============================] - 26s 139ms/step - loss: 2.3379 - accuracy: 0.8280 - val_loss: 1.5006 - val_accuracy: 0.8768\n",
            "Epoch 2/40\n",
            "188/188 [==============================] - 24s 127ms/step - loss: 0.9127 - accuracy: 0.9014 - val_loss: 0.8964 - val_accuracy: 0.9332\n",
            "Epoch 3/40\n",
            "188/188 [==============================] - 24s 127ms/step - loss: 0.4487 - accuracy: 0.9525 - val_loss: 0.6301 - val_accuracy: 0.9537\n",
            "Epoch 4/40\n",
            "188/188 [==============================] - 23s 124ms/step - loss: 0.2719 - accuracy: 0.9708 - val_loss: 0.5554 - val_accuracy: 0.9614\n",
            "Epoch 5/40\n",
            "188/188 [==============================] - 23s 125ms/step - loss: 0.1946 - accuracy: 0.9784 - val_loss: 0.5731 - val_accuracy: 0.9607\n",
            "Epoch 6/40\n",
            "188/188 [==============================] - 24s 125ms/step - loss: 0.1482 - accuracy: 0.9826 - val_loss: 0.5921 - val_accuracy: 0.9613\n",
            "Epoch 7/40\n",
            "188/188 [==============================] - 23s 125ms/step - loss: 0.1154 - accuracy: 0.9860 - val_loss: 0.6226 - val_accuracy: 0.9610\n",
            "Epoch 8/40\n",
            "188/188 [==============================] - 23s 124ms/step - loss: 0.0947 - accuracy: 0.9885 - val_loss: 0.7137 - val_accuracy: 0.9607\n",
            "Epoch 9/40\n",
            "188/188 [==============================] - 23s 125ms/step - loss: 0.0782 - accuracy: 0.9902 - val_loss: 0.7373 - val_accuracy: 0.9604\n"
          ],
          "name": "stdout"
        },
        {
          "output_type": "execute_result",
          "data": {
            "text/plain": [
              "<tensorflow.python.keras.callbacks.History at 0x7f246442f860>"
            ]
          },
          "metadata": {
            "tags": []
          },
          "execution_count": 19
        }
      ]
    },
    {
      "cell_type": "code",
      "metadata": {
        "id": "0qjVSUvyWkx_"
      },
      "source": [
        "def decode(pred_tag_index, idx2tag, sentence):\n",
        "  ret = [sentence[i] + \"(\" + idx2tag[pred_tag_index[i]] + \")\" for i in range(len(sentence))]\n",
        "  print(\" \".join(ret))"
      ],
      "execution_count": 20,
      "outputs": []
    },
    {
      "cell_type": "code",
      "metadata": {
        "id": "bys5_6m90Bq9"
      },
      "source": [
        "x_test = keras.preprocessing.sequence.pad_sequences(x_test,\n",
        "                                                     padding='post',\n",
        "                                                     value = word2idx[\"<PAD>\"],\n",
        "                                                     maxlen = 64)"
      ],
      "execution_count": 21,
      "outputs": []
    },
    {
      "cell_type": "code",
      "metadata": {
        "id": "hXyYaT5r0Bq9"
      },
      "source": [
        "y_test = keras.preprocessing.sequence.pad_sequences(y_test,\n",
        "                                                     padding='post',\n",
        "                                                     value = 0,\n",
        "                                                     maxlen = 64)"
      ],
      "execution_count": 22,
      "outputs": []
    },
    {
      "cell_type": "code",
      "metadata": {
        "id": "FDL-LjE70SXC"
      },
      "source": [
        "x_potential = model.predict(x_test)\n",
        "seqlen = np.array([min(len(sentence), 64) for sentence in right_test])\n",
        "pred, _ = tfa.text.crf_decode(x_potential, model.trainable_variables[-1], seqlen)\n",
        "pred = pred.numpy()"
      ],
      "execution_count": 23,
      "outputs": []
    },
    {
      "cell_type": "code",
      "metadata": {
        "id": "hFBa5HXZ0eb1"
      },
      "source": [
        "from sklearn.metrics import classification_report"
      ],
      "execution_count": 24,
      "outputs": []
    },
    {
      "cell_type": "code",
      "metadata": {
        "id": "-0bASClr7UJ4"
      },
      "source": [
        "pred_label = []\n",
        "for i in range(len(right_test)):\n",
        "  pred_label += [idx2tag[pred[i][j]] for j in range(min(len(right_test[i]), 64))]\n",
        "real_label = []\n",
        "for i in range(len(right_test)):\n",
        "  real_label += [idx2tag[y_test[i][j]] for j in range(min(len(right_test[i]), 64))]"
      ],
      "execution_count": 25,
      "outputs": []
    },
    {
      "cell_type": "code",
      "metadata": {
        "colab": {
          "base_uri": "https://localhost:8080/"
        },
        "id": "wCIwH1ZK3EIb",
        "outputId": "594fd1d0-e07a-425d-e403-333bfa2247d4"
      },
      "source": [
        "print(classification_report(pred_label, real_label))"
      ],
      "execution_count": 26,
      "outputs": [
        {
          "output_type": "stream",
          "text": [
            "              precision    recall  f1-score   support\n",
            "\n",
            "       B-LOC       0.83      0.91      0.87      1660\n",
            "      B-MISC       0.78      0.86      0.82       838\n",
            "       B-ORG       0.72      0.84      0.78      1156\n",
            "       B-PER       0.83      0.84      0.84      1775\n",
            "       I-LOC       0.74      0.74      0.74       257\n",
            "      I-MISC       0.66      0.77      0.71       295\n",
            "       I-ORG       0.71      0.80      0.75       668\n",
            "       I-PER       0.86      0.89      0.87      1229\n",
            "           O       0.99      0.97      0.98     43297\n",
            "\n",
            "    accuracy                           0.96     51175\n",
            "   macro avg       0.79      0.85      0.82     51175\n",
            "weighted avg       0.96      0.96      0.96     51175\n",
            "\n"
          ],
          "name": "stdout"
        }
      ]
    },
    {
      "cell_type": "code",
      "metadata": {
        "id": "PCqWOYHe6gv7"
      },
      "source": [
        ""
      ],
      "execution_count": 26,
      "outputs": []
    }
  ]
}